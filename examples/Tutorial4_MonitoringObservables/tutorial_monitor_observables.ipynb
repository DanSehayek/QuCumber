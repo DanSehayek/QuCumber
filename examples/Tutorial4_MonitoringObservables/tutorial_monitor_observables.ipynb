{
 "cells": [
  {
   "cell_type": "markdown",
   "metadata": {},
   "source": [
    "# Training while monitoring observables\n",
    "\n",
    "As seen in the first tutorial that went through reconstructing the wavefunction describing the TFIM with 10 sites at its critical point, the user can evaluate the training in real time with *MetricEvaluator* and custom functions. What is most likely more impactful in many cases is to calculate an observable, like the energy, during the training process. This is slightly more computationally involved than using the *MetricEvaluator* to evaluate functions because observables require that samples be drawn from the RBM. \n",
    "\n",
    "Luckily, qucumber also has a module very similar to the *MetricEvaluator*, but for observables. This is called the *ObservableEvaluator*. The following implements the *ObservableEvaluator* to calculate the energy during the training on the TFIM data in the first tutorial. We will use the same hyperparameters as before.\n",
    "\n",
    "Recall that quantum_ising_chain.py contains the *TFIMChainEnergy* class that inherits from the *Observable* module. The exact ground-state energy is -1.2381."
   ]
  },
  {
   "cell_type": "code",
   "execution_count": 1,
   "metadata": {},
   "outputs": [],
   "source": [
    "import numpy as np\n",
    "import torch\n",
    "import matplotlib.pyplot as plt\n",
    "\n",
    "from qucumber.nn_states import PositiveWavefunction\n",
    "from qucumber.callbacks import ObservableEvaluator\n",
    "\n",
    "import qucumber.utils.data as data\n",
    "\n",
    "import quantum_ising_chain\n",
    "from quantum_ising_chain import TFIMChainEnergy\n",
    "\n",
    "train_data = np.loadtxt(\"../Tutorial1_TrainPosRealWavefunction/tfim1d_data.txt\")\n",
    "\n",
    "nv = train_data.shape[-1]\n",
    "nh = nv\n",
    "\n",
    "nn_state = PositiveWavefunction(num_visible=nv, num_hidden=nh)\n",
    "\n",
    "epochs = 1000\n",
    "pbs    = 100 # pos_batch_size\n",
    "nbs    = 200 # neg_batch_size\n",
    "lr     = 0.01\n",
    "k      = 10\n",
    "\n",
    "log_every = 100\n",
    "\n",
    "h = 1\n",
    "num_samples = 10000\n",
    "burn_in     = 100\n",
    "steps       = 100\n",
    "\n",
    "tfim_energy = TFIMChainEnergy(h)"
   ]
  },
  {
   "cell_type": "markdown",
   "metadata": {},
   "source": [
    "Now, the *ObservableEvaluator* can be called. The *ObservableEvaluator* requires the following arguments.\n",
    "\n",
    "1. **log_every**: the frequency of the training evaluators being calculated is controlled by the *log_every* argument (e.g. *log_every* = 200 means that the *MetricEvaluator* will update the user every 200 epochs)\n",
    "2. A list of *Observable* objects you would like to reference to evaluate the training (arguments required for generating samples to calculate the observables are keyword arguments placed after the list)\n",
    "\n",
    "The following additional arguments are needed to calculate the statistics on the generated samples during training (these are the arguments of the *statistics* function in the *Observable* module, minus the *nn_state* argument; this gets passed in as an argument to *fit). \n",
    "\n",
    "- **num_samples**: the number of samples to generate internally\n",
    "- **num_chains**: the number of Markov chains to run in parallel (default = 0)\n",
    "- **burn_in**: the number of Gibbs steps to perform before recording any samples (default = 1000)\n",
    "- **steps**: the number of Gibbs steps to perform between each sample (default = 1)\n",
    "\n",
    "The training evaluators can be printed out via the *verbose=True* statement."
   ]
  },
  {
   "cell_type": "code",
   "execution_count": 2,
   "metadata": {},
   "outputs": [
    {
     "name": "stdout",
     "output_type": "stream",
     "text": [
      "Epoch: 100\n",
      "  TFIMChainEnergy:\n",
      "    mean: -1.195911\tvariance: 0.023170\tstd_error: 0.001522\n",
      "Epoch: 200\n",
      "  TFIMChainEnergy:\n",
      "    mean: -1.218775\tvariance: 0.012323\tstd_error: 0.001110\n",
      "Epoch: 300\n",
      "  TFIMChainEnergy:\n",
      "    mean: -1.221125\tvariance: 0.008264\tstd_error: 0.000909\n",
      "Epoch: 400\n",
      "  TFIMChainEnergy:\n",
      "    mean: -1.228525\tvariance: 0.005946\tstd_error: 0.000771\n",
      "Epoch: 500\n",
      "  TFIMChainEnergy:\n",
      "    mean: -1.230197\tvariance: 0.004708\tstd_error: 0.000686\n",
      "Epoch: 600\n",
      "  TFIMChainEnergy:\n",
      "    mean: -1.231181\tvariance: 0.004000\tstd_error: 0.000632\n",
      "Epoch: 700\n",
      "  TFIMChainEnergy:\n",
      "    mean: -1.233475\tvariance: 0.003267\tstd_error: 0.000572\n",
      "Epoch: 800\n",
      "  TFIMChainEnergy:\n",
      "    mean: -1.233604\tvariance: 0.002877\tstd_error: 0.000536\n",
      "Epoch: 900\n",
      "  TFIMChainEnergy:\n",
      "    mean: -1.234921\tvariance: 0.002334\tstd_error: 0.000483\n",
      "Epoch: 1000\n",
      "  TFIMChainEnergy:\n",
      "    mean: -1.235251\tvariance: 0.002003\tstd_error: 0.000448\n"
     ]
    }
   ],
   "source": [
    "callbacks = [\n",
    "    ObservableEvaluator(log_every, [tfim_energy], verbose=True, num_samples=num_samples, \n",
    "                        burn_in=burn_in, steps=steps)\n",
    "]\n",
    "\n",
    "nn_state.fit(train_data, epochs=epochs, pos_batch_size=pbs, neg_batch_size=nbs, lr=lr, k=k, callbacks=callbacks)"
   ]
  },
  {
   "cell_type": "markdown",
   "metadata": {},
   "source": [
    "The *callbacks* list returns a list of dictionaries."
   ]
  },
  {
   "cell_type": "code",
   "execution_count": 3,
   "metadata": {},
   "outputs": [
    {
     "name": "stdout",
     "output_type": "stream",
     "text": [
      "[{'mean': -1.1959110078172681, 'variance': 0.023170129463663622, 'std_error': 0.0015221737569562689}, {'mean': -1.218774695926404, 'variance': 0.012322693665323603, 'std_error': 0.001110076288609193}, {'mean': -1.221125154291777, 'variance': 0.008264004005875536, 'std_error': 0.000909065674518378}, {'mean': -1.228525134554893, 'variance': 0.005946346302249876, 'std_error': 0.0007711255606092873}, {'mean': -1.2301965178416538, 'variance': 0.00470787260368095, 'std_error': 0.0006861393884394737}, {'mean': -1.2311806605584763, 'variance': 0.003999839891613989, 'std_error': 0.0006324428742277036}, {'mean': -1.2334751831112076, 'variance': 0.003267025603832779, 'std_error': 0.0005715790062478484}, {'mean': -1.2336041208609247, 'variance': 0.0028769780648046596, 'std_error': 0.0005363746885158414}, {'mean': -1.2349207061361103, 'variance': 0.0023339314515264534, 'std_error': 0.000483107798687462}, {'mean': -1.2352506684937996, 'variance': 0.0020028007322839994, 'std_error': 0.0004475266173406895}]\n"
     ]
    }
   ],
   "source": [
    "print (callbacks[0].TFIMChainEnergy)"
   ]
  },
  {
   "cell_type": "markdown",
   "metadata": {},
   "source": [
    "The mean, standard error and the variance at each epoch can be accessed as follows."
   ]
  },
  {
   "cell_type": "code",
   "execution_count": 4,
   "metadata": {},
   "outputs": [],
   "source": [
    "energies = [i['mean'] for i in callbacks[0].TFIMChainEnergy]\n",
    "errors   = [i['std_error'] for i in callbacks[0].TFIMChainEnergy]\n",
    "variance = [i['variance'] for i in callbacks[0].TFIMChainEnergy]"
   ]
  },
  {
   "cell_type": "markdown",
   "metadata": {},
   "source": [
    "A plot of the energy as a function of the training cycle is presented below."
   ]
  },
  {
   "cell_type": "code",
   "execution_count": 6,
   "metadata": {},
   "outputs": [
    {
     "data": {
      "image/png": "[encoded data removed]",
      "text/plain": [
       "<Figure size 432x288 with 1 Axes>"
      ]
     },
     "metadata": {},
     "output_type": "display_data"
    }
   ],
   "source": [
    "epoch = np.arange(log_every, epochs+1, log_every)\n",
    "\n",
    "E0 = -1.2381\n",
    "\n",
    "ax = plt.axes()\n",
    "ax.plot(epoch, np.array(energies), color='red')\n",
    "ax.set_xlim(log_every, epochs)\n",
    "ax.axhline(E0, color='black')\n",
    "ax.fill_between(epoch, np.array(energies)-np.array(errors), np.array(energies)+np.array(errors), alpha=0.2, color='black')\n",
    "ax.set_xlabel(\"Epoch\")\n",
    "ax.set_ylabel(\"Energy\")\n",
    "ax.grid()"
   ]
  },
  {
   "cell_type": "code",
   "execution_count": null,
   "metadata": {},
   "outputs": [],
   "source": []
  }
 ],
 "metadata": {
  "kernelspec": {
   "display_name": "Python 3",
   "language": "python",
   "name": "python3"
  },
  "language_info": {
   "codemirror_mode": {
    "name": "ipython",
    "version": 3
   },
   "file_extension": ".py",
   "mimetype": "text/x-python",
   "name": "python",
   "nbconvert_exporter": "python",
   "pygments_lexer": "ipython3",
   "version": "3.6.5"
  }
 },
 "nbformat": 4,
 "nbformat_minor": 2
}
