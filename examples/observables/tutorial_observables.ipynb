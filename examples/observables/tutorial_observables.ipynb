{
 "cells": [
  {
   "cell_type": "markdown",
   "metadata": {},
   "source": [
    "# Using QuCumber's *Observable* module\n",
    "\n",
    "This tutorial will guide the user through how to use the built-in *Observable* module in QuCumber. Essentially, any user-made classes that are inherited from *Observable* will only need to contain a function(s) required in order to calculate that observable from a set of data points along with its standard error and variance. \n",
    "\n",
    "## Train an RBM\n",
    "\n",
    "We first need to train an RBM. If you are unsure how to do this, please refer to our tutorials on training an RBM. Let's quickly train an RBM with a positive-real wavefunction on a transverse-field Ising model (TFIM) with 10 sites. The training data has been generated and is contained in the file *../01_Ising/tfim1d_N10_train_samples.txt*.  It contains 10,000 measurements of the $S^z$ states of 10 qubits, represented as zeros or ones."
   ]
  },
  {
   "cell_type": "code",
   "execution_count": 1,
   "metadata": {},
   "outputs": [
    {
     "name": "stdout",
     "output_type": "stream",
     "text": [
      "\n",
      "Elapsed time = 109.90\n"
     ]
    }
   ],
   "source": [
    "import torch\n",
    "import numpy as np\n",
    "import matplotlib.pyplot as plt\n",
    "\n",
    "# required for training the RBM\n",
    "from qucumber.quantum_reconstruction import QuantumReconstruction\n",
    "from qucumber.positive_wavefunction import PositiveWavefunction\n",
    "\n",
    "from qucumber.callbacks import MetricEvaluator\n",
    "\n",
    "import qucumber.utils.training_statistics as ts\n",
    "import qucumber.utils.data as data\n",
    "\n",
    "# this is required for the creation of your observable\n",
    "from qucumber.observables import Observable\n",
    "\n",
    "train_samples_path = '../01_Ising/tfim1d_train_samples.txt'\n",
    "psi_path           = '../01_Ising/tfim1d_psi.txt'\n",
    "\n",
    "train_samples,target_psi = data.load_data(train_samples_path,psi_path)\n",
    "\n",
    "nv = train_samples.shape[-1]\n",
    "nh = nv\n",
    "\n",
    "nn_state = PositiveWavefunction(num_visible=nv,num_hidden=nh,gpu=False)\n",
    "\n",
    "epochs     = 500\n",
    "batch_size = 100\n",
    "num_chains = 200\n",
    "CD         = 10\n",
    "lr         = 0.1\n",
    "\n",
    "qr = QuantumReconstruction(nn_state)\n",
    "\n",
    "nn_state.initialize_parameters() # randomize the network parameters.\n",
    "qr.fit(train_samples, epochs, batch_size, num_chains, CD, lr, progbar=False)"
   ]
  },
  {
   "cell_type": "markdown",
   "metadata": {},
   "source": [
    "## Calculate an Observable\n",
    "\n",
    "With our RBM trained and the parameters of the machine stored within *nn_state*, let's now define our example observable called *PIQuIL*. The *PIQuIL* observable takes an $S^z$ measurement at a site and multiplies it by the measurement two sites from it. There is also a parameter, P, that determines the strength of each of these interactions. For example, for the dataset $(-1,1,1,-1), (1,1,1,1)$ and $(1,1,-1,1)$ with P = 2, the *PIQuIL* for each data point would be $\\left( 2(-1\\times1) + 2(1\\times-1) = -4 \\right), \\left( 2(1\\times1) + 2(1\\times1) = 4 \\right)$ and $\\left( 2(1\\times-1) + 2(1\\times1) = 0 \\right)$, respectively.\n",
    "\n",
    "To calculate PIQuIL, we need a function that take zeros and ones and converts them to -1 and 1, respectively."
   ]
  },
  {
   "cell_type": "code",
   "execution_count": 2,
   "metadata": {},
   "outputs": [],
   "source": [
    "def to_pm1(samples):\n",
    "    samples.mul(2.).sub(1.)"
   ]
  },
  {
   "cell_type": "markdown",
   "metadata": {},
   "source": [
    "Now let's define the *PIQuIL* class (inherited from *Observables*). The *Observable* module will do all of the required sampling for us. We just have to supply any class that inherits from *Observable* with the any other required parameters (P in our case)."
   ]
  },
  {
   "cell_type": "code",
   "execution_count": 3,
   "metadata": {},
   "outputs": [],
   "source": [
    "class PIQuIL(Observable):\n",
    "    \n",
    "    def __init__(self, P, num_samples):\n",
    "        super(PIQuIL, self).__init__()\n",
    "        self.P = P\n",
    "        self.num_samples = num_samples # required argument for sampling\n",
    "    \n",
    "    # function that calculates the PIQuIL\n",
    "    def interaction(self, samples):\n",
    "        to_pm1(samples)\n",
    "        interaction_ = 0\n",
    "        for i in range(samples.shape[-1]):\n",
    "            if (i+3) > samples.shape[-1]:\n",
    "                continue\n",
    "            else:\n",
    "                interaction_ += (self.P*samples[:,i]*samples[:,i+2])\n",
    "    \n",
    "        return interaction_\n",
    "    \n",
    "    # Required\n",
    "    def apply(self, samples, nn_state):\n",
    "        return self.interaction(samples)"
   ]
  },
  {
   "cell_type": "markdown",
   "metadata": {},
   "source": [
    "The *apply* function is contained in the *Observable* module, but is overwritten here. The overwritten function will give the *statistics* function in *Observable* a torch tensor object containing the observable's value for each data point. The *statistics* function will then calculate the mean, standard error and variance of your observable.\n",
    "\n",
    "Now, let's calculate *PIQuIL*."
   ]
  },
  {
   "cell_type": "code",
   "execution_count": 4,
   "metadata": {},
   "outputs": [
    {
     "name": "stdout",
     "output_type": "stream",
     "text": [
      "Mean PIQuIL:  2.8416 +/- 0.10168012730267548\n",
      "Variance : 10.33884828828829\n"
     ]
    }
   ],
   "source": [
    "P = 1.2\n",
    "num_samples = 1000\n",
    "\n",
    "piquil = PIQuIL(P, 1000)\n",
    "\n",
    "piquil_stats = piquil.statistics(nn_state, num_samples)\n",
    "\n",
    "print ('Mean PIQuIL: ',piquil_stats['mean'],'+/-',piquil_stats['std_error'])\n",
    "print ('Variance :',piquil_stats['variance'])"
   ]
  },
  {
   "cell_type": "markdown",
   "metadata": {},
   "source": [
    "That's all. Here is a generic template for you to try using *Observable* yourself."
   ]
  },
  {
   "cell_type": "code",
   "execution_count": null,
   "metadata": {},
   "outputs": [],
   "source": [
    "# import statements (most likely need torch)\n",
    "\n",
    "from qucumber.observables import Observable #required\n",
    "\n",
    "class YourObservable(Observable):\n",
    "\n",
    "    def __init__(self, num_samples, your_args1):\n",
    "        super(YourObservable, self).__init__()\n",
    "        self.num_samples = num_samples\n",
    "        self.your_args1  = your_args1\n",
    "        \n",
    "    def calculate_your_observable(self, generated_samples, your_args2):\n",
    "    \n",
    "        # insert how to calculate your observable here\n",
    "        \n",
    "        # return a torch tensor containing the observable for each data point\n",
    "        return your_observable\n",
    "        \n",
    "    def apply(self, generated_samples, nn_state, your_args2): \n",
    "        # arguments of \"apply\" must be in that order\n",
    "        return self.calculate_your_observable(generated_samples, your_args2)   "
   ]
  }
 ],
 "metadata": {
  "kernelspec": {
   "display_name": "Python 3",
   "language": "python",
   "name": "python3"
  },
  "language_info": {
   "codemirror_mode": {
    "name": "ipython",
    "version": 3
   },
   "file_extension": ".py",
   "mimetype": "text/x-python",
   "name": "python",
   "nbconvert_exporter": "python",
   "pygments_lexer": "ipython3",
   "version": "3.6.5"
  }
 },
 "nbformat": 4,
 "nbformat_minor": 2
}
