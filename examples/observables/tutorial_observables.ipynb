{
 "cells": [
  {
   "cell_type": "markdown",
   "metadata": {},
   "source": [
    "# Using qucumber's *Observable* module\n",
    "\n",
    "This tutorial will guide the user through how to use the built-in *Observable* module in QuCumber. Essentially, any user-made classes that are inherited from *Observable* will only need to contain a function required in order to calculate that observable from a set of data points.\n",
    "\n",
    "## Train an RBM\n",
    "\n",
    "Firstly, an RBM needs to be trained. If you are unsure how to do this, please refer to our tutorials on training an RBM. An RBM with a positive-real wavefunction on a transverse-field Ising model (TFIM) with 10 sites. The training data has been generated and is contained in the file *../01_Ising/tfim1d_N10_train_samples.txt*.  It contains 10,000 measurements of the $S^z$ states of 10 qubits, represented as zeros or ones."
   ]
  },
  {
   "cell_type": "code",
   "execution_count": 1,
   "metadata": {},
   "outputs": [],
   "source": [
    "import numpy as np\n",
    "import torch\n",
    "import matplotlib.pyplot as plt\n",
    "\n",
    "from qucumber.nn_states import PositiveWavefunction\n",
    "from qucumber.callbacks import MetricEvaluator\n",
    "import qucumber.utils.training_statistics as ts\n",
    "import qucumber.utils.data as data\n",
    "\n",
    "from qucumber.observables import Observable\n",
    "\n",
    "train_samples_path = '../01_Ising/tfim1d_train.txt'\n",
    "psi_path           = '../01_Ising/tfim1d_psi.txt'\n",
    "\n",
    "train_samples,target_psi = data.load_data(train_samples_path,psi_path)\n",
    "\n",
    "nv = train_samples.shape[-1]\n",
    "nh = nv\n",
    "\n",
    "nn_state = PositiveWavefunction.autoload(\"../01_Ising/saved_weights.pt\")"
   ]
  },
  {
   "cell_type": "markdown",
   "metadata": {},
   "source": [
    "## Calculate an observable\n",
    "\n",
    "With our RBM trained and the parameters of the machine stored within *nn_state*, let's now define our example observable called *PIQuIL*. The *PIQuIL* observable takes an $S^z$ measurement at a site and multiplies it by the measurement two sites from it. There is also a parameter, P, that determines the strength of each of these interactions. For example, for the dataset $(-1,1,1,-1), (1,1,1,1)$ and $(1,1,-1,1)$ with P = 2, the *PIQuIL* for each data point would be $\\left( 2(-1\\times1) + 2(1\\times-1) = -4 \\right), \\left( 2(1\\times1) + 2(1\\times1) = 4 \\right)$ and $\\left( 2(1\\times-1) + 2(1\\times1) = 0 \\right)$, respectively.\n",
    "\n",
    "To calculate PIQuIL, we need a function that take zeros and ones and converts them to -1 and 1, respectively."
   ]
  },
  {
   "cell_type": "code",
   "execution_count": 2,
   "metadata": {},
   "outputs": [],
   "source": [
    "def to_pm1(samples):\n",
    "    samples.mul(2.).sub(1.)"
   ]
  },
  {
   "cell_type": "markdown",
   "metadata": {},
   "source": [
    "Now let's define the *PIQuIL* class (inherited from *Observables*). The *Observable* module will do all of the required sampling for us. We just have to supply any class that inherits from *Observable* with the any other required parameters (P in our case)."
   ]
  },
  {
   "cell_type": "code",
   "execution_count": 3,
   "metadata": {},
   "outputs": [],
   "source": [
    "class PIQuIL(Observable):\n",
    "    \n",
    "    def __init__(self, P, num_samples):\n",
    "        super(PIQuIL, self).__init__()\n",
    "        self.P = P\n",
    "        self.num_samples = num_samples # required argument for sampling\n",
    "    \n",
    "    # function that calculates the PIQuIL\n",
    "    def interaction(self, samples):\n",
    "        to_pm1(samples)\n",
    "        interaction_ = 0\n",
    "        for i in range(samples.shape[-1]):\n",
    "            if (i+3) > samples.shape[-1]:\n",
    "                continue\n",
    "            else:\n",
    "                interaction_ += (self.P*samples[:,i]*samples[:,i+2])\n",
    "    \n",
    "        return interaction_\n",
    "    \n",
    "    # Required\n",
    "    def apply(self, nn_state, samples):\n",
    "        return self.interaction(samples)"
   ]
  },
  {
   "cell_type": "markdown",
   "metadata": {},
   "source": [
    "The *apply* function is contained in the *Observable* module, but is overwritten here. The overwritten function will give the *statistics* function in *Observable* a torch tensor object containing the observable's value for each data point. The *statistics* function will then calculate the mean, standard error and variance of your observable given all of the generated samples.\n",
    "\n",
    "Now, let's calculate *PIQuIL*."
   ]
  },
  {
   "cell_type": "code",
   "execution_count": 4,
   "metadata": {},
   "outputs": [
    {
     "name": "stdout",
     "output_type": "stream",
     "text": [
      "Mean PIQuIL: 3.3828 +/- 0.1048\n",
      "Variance: 10.9928\n"
     ]
    }
   ],
   "source": [
    "P = 1.2\n",
    "num_samples = 1000\n",
    "\n",
    "piquil = PIQuIL(P, num_samples)\n",
    "\n",
    "piquil_stats = piquil.statistics(nn_state, num_samples)\n",
    "\n",
    "print ('Mean PIQuIL: %.4f' % piquil_stats['mean'], '+/- %.4f' % piquil_stats['std_error'])\n",
    "print ('Variance: %.4f' % piquil_stats['variance'])"
   ]
  },
  {
   "cell_type": "markdown",
   "metadata": {},
   "source": [
    "That's all. Here is a generic template for you to try using *Observable* yourself."
   ]
  },
  {
   "cell_type": "code",
   "execution_count": 5,
   "metadata": {},
   "outputs": [],
   "source": [
    "# import statements (most likely need torch)\n",
    "\n",
    "from qucumber.observables import Observable #required\n",
    "\n",
    "class YourObservable(Observable):\n",
    "\n",
    "    def __init__(self, num_samples, your_args1):\n",
    "        super(YourObservable, self).__init__()\n",
    "        self.num_samples = num_samples\n",
    "        self.your_args1  = your_args1\n",
    "        \n",
    "    def calculate_your_observable(self, generated_samples, your_args2):\n",
    "    \n",
    "        # insert how to calculate your observable here\n",
    "        \n",
    "        # return a torch tensor containing the observable for each data point\n",
    "        return your_observable\n",
    "        \n",
    "    def apply(self, generated_samples, nn_state, your_args2): \n",
    "        # arguments of \"apply\" must be in that order\n",
    "        return self.calculate_your_observable(generated_samples, your_args2)   "
   ]
  },
  {
   "cell_type": "code",
   "execution_count": null,
   "metadata": {},
   "outputs": [],
   "source": []
  }
 ],
 "metadata": {
  "kernelspec": {
   "display_name": "Python 3",
   "language": "python",
   "name": "python3"
  },
  "language_info": {
   "codemirror_mode": {
    "name": "ipython",
    "version": 3
   },
   "file_extension": ".py",
   "mimetype": "text/x-python",
   "name": "python",
   "nbconvert_exporter": "python",
   "pygments_lexer": "ipython3",
   "version": "3.6.5"
  }
 },
 "nbformat": 4,
 "nbformat_minor": 2
}
