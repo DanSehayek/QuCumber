{
 "cells": [
  {
   "cell_type": "markdown",
   "metadata": {},
   "source": [
    "# Part 1: Training an RBM with no phase\n",
    "\n",
    "## Getting Started\n",
    "\n",
    "The following imports are needed to run this tutorial:"
   ]
  },
  {
   "cell_type": "code",
   "execution_count": 1,
   "metadata": {},
   "outputs": [],
   "source": [
    "from rbm_tutorial import RBM_Module, BinomialRBM\n",
    "import torch\n",
    "from observables_tutorial import TFIMChainEnergy, TFIMChainMagnetization\n",
    "import numpy as np\n",
    "import csv"
   ]
  },
  {
   "cell_type": "markdown",
   "metadata": {},
   "source": [
    "*rbm_tutorial.py* contains the child class **BinomialRBM** that inherits properties and functions from the parent class **RBM_Module**. \n",
    " \n",
    "PyTorch (torch) is used as a replacement for doing some algebra that would normally be done with numpy. PyTorch also allows one to take advantage of GPU acceleration among many other things. Don't worry if you don't have a GPU on your machine - the tutorial will run in no time on a CPU.\n",
    "\n",
    "*observables_tutorial* is a package that will allow us to calculate quantities like the energy and magnetization of samples that we generate after training the RBM.\n",
    "\n",
    "## Training\n",
    "\n",
    "Let's go through training for a positive-real wavefunction. To evaluate how well the RBM is training, we will compute the fidelity between the true wavefunction of the system and the wavefunction the RBM reconstructs. First, we need to load our training data and the true wavefunction of this system. The dataset we will train our RBM on are 10.000 configurations of a 1D transverse-field Ising model with 10 sites (**h = 0.0**)."
   ]
  },
  {
   "cell_type": "code",
   "execution_count": 2,
   "metadata": {},
   "outputs": [],
   "source": [
    "train_set = np.loadtxt('tfim1d_N10_train_samples.txt', dtype= 'float32')\n",
    "true_psi  = torch.tensor(np.loadtxt('tfim1d_N10_psi.txt', dtype= 'float32'), dtype=torch.double, device = torch.device('cpu'))"
   ]
  },
  {
   "cell_type": "markdown",
   "metadata": {},
   "source": [
    "The following arguments are required to construct a **BinomialRBM** object:\n",
    "\n",
    "1. **The number of visible units, *num_visible***. This is 10 for the case of our dataset.\n",
    "2. **The number of hidden units in the hidden layer of the RBM, *num_hidden***. It's recommended that the number of hidden units stay equal to the number of visible units (10 in the case of our dataset)."
   ]
  },
  {
   "cell_type": "code",
   "execution_count": 12,
   "metadata": {},
   "outputs": [],
   "source": [
    "num_visible = train_set.shape[-1] # 10\n",
    "num_hidden  = train_set.shape[-1] # 10"
   ]
  },
  {
   "cell_type": "markdown",
   "metadata": {},
   "source": [
    "A **BinomialRBM** object has a function called *fit* that performs the training. *fit* takes the following arguments:\n",
    "\n",
    "1. ***train_set***: needed for selecting mini batches of the data\n",
    "2. ***true_psi***: only needed here to compute the fidelity\n",
    "3. ***epochs***: the number of epochs, i.e. training cycles that will be performed; 500 should be fine\n",
    "4. ***batch_size***: the number of data points that each mini batch will contain; we'll go with 100\n",
    "5. ***k***: the number of contrastive divergence steps; k=1 seems to be good enough in most cases\n",
    "6. ***lr***: the learning rate; we will use a learning rate of 0.01 here\n",
    "7. ***log_every***: how often you would like the program to update you during the training; we choose 50 - that is, every 50 epochs the program will print out the fidelity"
   ]
  },
  {
   "cell_type": "code",
   "execution_count": 13,
   "metadata": {},
   "outputs": [],
   "source": [
    "epochs     = 500\n",
    "batch_size = 100\n",
    "k          = 2\n",
    "lr         = 0.01\n",
    "log_every  = 50"
   ]
  },
  {
   "cell_type": "code",
   "execution_count": 14,
   "metadata": {},
   "outputs": [
    {
     "data": {
      "application/vnd.jupyter.widget-view+json": {
       "model_id": "eba17e715db545a89eb7114fc78c8360",
       "version_major": 2,
       "version_minor": 0
      },
      "text/plain": [
       "HBox(children=(IntProgress(value=0, description='Training: ', max=500), HTML(value='')))"
      ]
     },
     "metadata": {},
     "output_type": "display_data"
    },
    {
     "name": "stdout",
     "output_type": "stream",
     "text": [
      "Epoch =  0 \n",
      "Fidelity =  tensor(0.2960, dtype=torch.float64)\n",
      "Epoch =  50 \n",
      "Fidelity =  tensor(0.8146, dtype=torch.float64)\n",
      "Epoch =  100 \n",
      "Fidelity =  tensor(0.8942, dtype=torch.float64)\n",
      "Epoch =  150 \n",
      "Fidelity =  tensor(0.9235, dtype=torch.float64)\n",
      "Epoch =  200 \n",
      "Fidelity =  tensor(0.9570, dtype=torch.float64)\n",
      "Epoch =  250 \n",
      "Fidelity =  tensor(0.9728, dtype=torch.float64)\n",
      "Epoch =  300 \n",
      "Fidelity =  tensor(0.9760, dtype=torch.float64)\n",
      "Epoch =  350 \n",
      "Fidelity =  tensor(0.9781, dtype=torch.float64)\n",
      "Epoch =  400 \n",
      "Fidelity =  tensor(0.9817, dtype=torch.float64)\n",
      "Epoch =  450 \n",
      "Fidelity =  tensor(0.9836, dtype=torch.float64)\n",
      "Epoch =  500 \n",
      "Fidelity =  tensor(0.9838, dtype=torch.float64)\n",
      "Finished training.\n",
      "Saved weights and biases.\n"
     ]
    },
    {
     "data": {
      "image/png": "[encoded data removed]",
      "text/plain": [
       "<Figure size 432x288 with 1 Axes>"
      ]
     },
     "metadata": {},
     "output_type": "display_data"
    }
   ],
   "source": [
    "rbm_real = BinomialRBM(num_visible, num_hidden)\n",
    "rbm_real.fit(train_set, true_psi, epochs, batch_size, k, lr, log_every)"
   ]
  },
  {
   "cell_type": "markdown",
   "metadata": {},
   "source": [
    "## After Training \n",
    "\n",
    "After training your RBM, the *fit* function will have saved your trained weights and biases. Now, we can generate samples from our trained RBM and calculate the observables. Let's calculate the energy and the magnetization of newly generated samples.\n",
    "\n",
    "**TFIMChainEnergy** and **TFIMChainMagnetization** objects (from *observables_tutorial*) have a sampler function called *sample* built into them. They will generate samples from the RBM distribution learned in the training procedure, compute the observables and plot the computed values as a function of CD step.\n",
    "All that needs to be done is to feed in the following arguments into the objects' *sample* functions:\n",
    "\n",
    "1. ***sampler***: the RBM object that we've trained\n",
    "2. ***num_samples***: the number of samples we wish to generate\n",
    "3. ***k***: the number of contrastive divergence steps that will be used to generate all of those samples"
   ]
  },
  {
   "cell_type": "code",
   "execution_count": 15,
   "metadata": {},
   "outputs": [
    {
     "data": {
      "image/png": "[encoded data removed]",
      "text/plain": [
       "<Figure size 432x288 with 1 Axes>"
      ]
     },
     "metadata": {},
     "output_type": "display_data"
    }
   ],
   "source": [
    "rbm_energy = TFIMChainEnergy(h=0.0) # TFIMChainEnergy requires the h value for initialization\n",
    "energies = rbm_energy.sample(sampler=rbm_real, num_samples=1000, k=100)"
   ]
  },
  {
   "cell_type": "code",
   "execution_count": 16,
   "metadata": {},
   "outputs": [
    {
     "data": {
      "image/png": "[encoded data removed]",
      "text/plain": [
       "<Figure size 432x288 with 1 Axes>"
      ]
     },
     "metadata": {},
     "output_type": "display_data"
    }
   ],
   "source": [
    "rbm_mag    = TFIMChainMagnetization()\n",
    "magnetizations = rbm_mag.sample(sampler=rbm_real, num_samples=1000, k=100)"
   ]
  },
  {
   "cell_type": "markdown",
   "metadata": {},
   "source": [
    "And there you have it! For more information on using QuCumber on your machine, please refer to **LINK TO DOCUMENTATION**. If you are interested in learning about training a **ComplexRBM** object, please click [here](./QuCumberTutorialComplex.html)."
   ]
  }
 ],
 "metadata": {
  "kernelspec": {
   "display_name": "Python 3",
   "language": "python",
   "name": "python3"
  },
  "language_info": {
   "codemirror_mode": {
    "name": "ipython",
    "version": 3
   },
   "file_extension": ".py",
   "mimetype": "text/x-python",
   "name": "python",
   "nbconvert_exporter": "python",
   "pygments_lexer": "ipython3",
   "version": "3.6.5"
  }
 },
 "nbformat": 4,
 "nbformat_minor": 2
}
