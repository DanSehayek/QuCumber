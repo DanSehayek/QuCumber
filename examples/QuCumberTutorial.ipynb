{
 "cells": [
  {
   "cell_type": "markdown",
   "metadata": {},
   "source": [
    "# Training and Sampling a Restricted Boltzmann Machine with QuCumber\n",
    "\n",
    "Welcome to the tutorial for QuCumber, by PIQuIL.\n",
    "\n",
    "<img src=\"rsz_1pickle_logo_white-1.png\" width=\"300\">\n",
    "\n",
    "The purpose of this tutorial will be to walk you through what QuCumber can do. QuCumber is a neural network quantum state tomography (QST) package that can reconstruct a postitive-real and/or complex wavefunction given your data as input and that can generate new data given trained parameters. We recommend that you read through our brief, but thorough, theoretical breakdown of Restricted Boltzmann Machines (RBM) - the neural network behind QuCumber - before going through with this tutorial if you do not have any previous knowledge of RBMs. **LINK NEEDED**\n",
    "\n",
    "## Download the Data and rbm_tutorial.py\n",
    "\n",
    "Please head to **LINK NEEDED** and download the tutorial folder, which should contain\n",
    "\n",
    " - rbm_tutorial.py,\n",
    " - tfim1d_N10_train_samples.txt,\n",
    " - 2qubits_train_samples.txt,\n",
    " - tfim1d_N10_psi.txt,\n",
    " - 2qubits_train_bases.txt,\n",
    " - 2qubits_psi.txt,\n",
    " \n",
    "So that you can run this tutorial on your machine.\n",
    "\n",
    "## Comments Before Getting Started\n",
    "\n",
    "This tutorial will walk you through\n",
    "\n",
    "1. training an RBM to reconstruct a positive-real wavefunction (i.e. no phase) and then generating new data,\n",
    "2. training an RBM to reconstruct a complex wavefunction (i.e. with a phase) and then generating new data,\n",
    "\n",
    "in that order. Before you begin, please ensure that you have installed **Python 3** (including the following packages: numpy, matplotlib, and csv) and **Pytorch** (https://pytorch.org/) on your machine. \n",
    "\n",
    "## Getting Started\n",
    "\n",
    "The following imports are needed to run this tutorial."
   ]
  },
  {
   "cell_type": "code",
   "execution_count": 15,
   "metadata": {},
   "outputs": [],
   "source": [
    "from rbm_tutorial import RBM_Module, BinomialRBM, ComplexRBM\n",
    "import torch\n",
    "import cplx\n",
    "import unitary_library\n",
    "import numpy as np\n",
    "import csv"
   ]
  },
  {
   "cell_type": "markdown",
   "metadata": {},
   "source": [
    "*rbm_tutorial.py* contains two child classes (**BinomialRBM** and **ComplexRBM**) that inherit properties and functions from the parent class **RBM_Module**. \n",
    "\n",
    " - **BinomialRBM**: Trains an RBM with a positive-real wavefunction.\n",
    " - **ComplexRBM**: Trains an RBM with a complex wavefunction.\n",
    " \n",
    "Pytorch (torch) is used as a replacement for doing some algebra that would normally be done with numpy. Pytorch also allows one to take advantage of GPU acceleration among many other things. Don't worry if you don't have a GPU on your machine; the tutorial will run in no time on a CPU.\n",
    "\n",
    "One downfall of pytorch is that it currently does not have complex number support, so we have written our own complex algebra library (cplx.py). For more information on this library's contents, please refer to: **LINK TO CPLX.PY DOCUMENTAION**. We hope that pytorch will implement complex numbers soon!\n",
    "\n",
    "*unitary_library* is a package that will create a dictionary of the unitaries needed in order to train a ComplexRBM object (more later).\n",
    "\n",
    "## Training RBMs\n",
    "\n",
    "### BinomialRBM\n",
    "\n",
    "Let's go through training a positive-real wavefunction. To evaluate how the RBM is training, we will compute the fidelity between the true wavefunction of the system and the wavefunction the RBM reconstructs. First, we need to load our training data and the true wavefunction of this system. The dummy dataset we will train our RBM on is a 1D transverse-field Ising model with 10 sites."
   ]
  },
  {
   "cell_type": "code",
   "execution_count": 16,
   "metadata": {},
   "outputs": [],
   "source": [
    "train_set1 = np.loadtxt('tfim1d_N10_train_samples.txt', dtype= 'float32')\n",
    "true_psi1  = torch.tensor(np.loadtxt('tfim1d_N10_psi.txt', dtype= 'float32'), dtype=torch.double, device = torch.device('cpu'))"
   ]
  },
  {
   "cell_type": "markdown",
   "metadata": {},
   "source": [
    "The following arguments are required to construct a **BinomialRBM** object.\n",
    "\n",
    "1. **The number of visible units, *num_visible***. This is 10 for the case of our dataset.\n",
    "2. **The number of hidden units in the hidden layer of the RBM, *num_hidden***. It's recommended that the number of hidden units stay equal to the number of visible units (10 in the case of our dummy dataset)."
   ]
  },
  {
   "cell_type": "code",
   "execution_count": 17,
   "metadata": {},
   "outputs": [],
   "source": [
    "num_visible = train_set1.shape[-1] # 10\n",
    "num_hidden  = train_set1.shape[-1] # 10"
   ]
  },
  {
   "cell_type": "markdown",
   "metadata": {},
   "source": [
    "A **BinomialRBM** object has a function called *fit* that performs the training. *fit* takes the following arguments.\n",
    "\n",
    "1. ***train_set***. Needed for selecting mini batches of the data.\n",
    "2. ***true_psi***. Only needed here to compute the fidelity.\n",
    "3. **The number of epochs, *epochs***. The number of training cycles that will be performed. 500 should be fine.\n",
    "4. **The mini batch size, *batch_size***. The number of data points that each mini batch will contain. We'll go with 100.\n",
    "5. **The number of contrastive divergence steps, *k***. One contrastive divergence step seems to be good enough in most cases.\n",
    "6. **The learning rate, *lr***. We will use a learning rate of 0.01 here.\n",
    "7. **How often you would like the program to update you during the training, *log_every***. Every 50 epochs the program will print out the fidelity."
   ]
  },
  {
   "cell_type": "code",
   "execution_count": 18,
   "metadata": {},
   "outputs": [],
   "source": [
    "epochs     = 500\n",
    "batch_size = 100\n",
    "k          = 2\n",
    "lr         = 0.01\n",
    "log_every  = 50"
   ]
  },
  {
   "cell_type": "code",
   "execution_count": 19,
   "metadata": {},
   "outputs": [
    {
     "data": {
      "application/vnd.jupyter.widget-view+json": {
       "model_id": "a5206885c20c411eb8071cf70c02e2d8",
       "version_major": 2,
       "version_minor": 0
      },
      "text/plain": [
       "HBox(children=(IntProgress(value=0, description='Training: ', max=500), HTML(value='')))"
      ]
     },
     "metadata": {},
     "output_type": "display_data"
    },
    {
     "name": "stdout",
     "output_type": "stream",
     "text": [
      "Epoch =  0 \n",
      "Fidelity =  tensor(0.2960, dtype=torch.float64)\n",
      "Epoch =  50 \n",
      "Fidelity =  tensor(0.8146, dtype=torch.float64)\n",
      "Epoch =  100 \n",
      "Fidelity =  tensor(0.8942, dtype=torch.float64)\n",
      "Epoch =  150 \n",
      "Fidelity =  tensor(0.9235, dtype=torch.float64)\n",
      "Epoch =  200 \n",
      "Fidelity =  tensor(0.9570, dtype=torch.float64)\n",
      "Epoch =  250 \n",
      "Fidelity =  tensor(0.9728, dtype=torch.float64)\n",
      "Epoch =  300 \n",
      "Fidelity =  tensor(0.9760, dtype=torch.float64)\n",
      "Epoch =  350 \n",
      "Fidelity =  tensor(0.9781, dtype=torch.float64)\n",
      "Epoch =  400 \n",
      "Fidelity =  tensor(0.9817, dtype=torch.float64)\n",
      "Epoch =  450 \n",
      "Fidelity =  tensor(0.9836, dtype=torch.float64)\n",
      "Epoch =  500 \n",
      "Fidelity =  tensor(0.9838, dtype=torch.float64)\n",
      "Finished training.\n",
      "Saved weights and biases.\n"
     ]
    },
    {
     "data": {
      "image/png": "[encoded data removed]",
      "text/plain": [
       "<Figure size 432x288 with 1 Axes>"
      ]
     },
     "metadata": {},
     "output_type": "display_data"
    }
   ],
   "source": [
    "rbm_real = BinomialRBM(num_visible, num_hidden)\n",
    "rbm_real.fit(train_set1, true_psi1, epochs, batch_size, k, lr, log_every)"
   ]
  },
  {
   "cell_type": "markdown",
   "metadata": {},
   "source": [
    "### After Training \n",
    "\n",
    "After training your RBM, the *fit* function will have saved your trained weights and biases. Now, you have the option to generate new data from the trained RBM. The *rbm_real* object has a *sample* function that takes the following arguments.\n",
    "\n",
    "1. The number of samples you wish to generate, *num_samples*.\n",
    "2. The number of contrastive divergence steps performed to generate the samples, *k*."
   ]
  },
  {
   "cell_type": "code",
   "execution_count": 20,
   "metadata": {},
   "outputs": [],
   "source": [
    "num_samples = 100\n",
    "k           = 10\n",
    "\n",
    "rbm_real.sample(num_samples, k)"
   ]
  },
  {
   "cell_type": "markdown",
   "metadata": {},
   "source": [
    "You will now find the *generated_samples_realRBM.pkl* file in your directory that contains your new samples.\n",
    "\n",
    "### ComplexRBM\n",
    "\n",
    "Let's now go through training a complex wavefunction. To evaluate how the RBM is training, we will again compute the fidelity between the true wavefunction of the system and the wavefunction the RBM reconstructs. Again, we first need to load our training data and the true wavefunction of this system. However, we also need the corresponding file that contains all of the measurements that each site is in. The dummy dataset we will train our RBM on is a two qubit system who's wavefunction is $\\psi =\\left.\\frac{1}{2}\\right\\vert+,+\\rangle - \\left.\\frac{1}{2}\\right\\vert+,-\\rangle + \\left.\\frac{i}{2}\\right\\vert-,+\\rangle - \\left.\\frac{i}{2}\\right\\vert-,\\rangle$, where $+$ and $-$ represent spin-up and spin-down, respectively.\n",
    "\n"
   ]
  },
  {
   "cell_type": "code",
   "execution_count": 21,
   "metadata": {},
   "outputs": [],
   "source": [
    "train_set2 = np.loadtxt('2qubits_train_samples.txt', dtype= 'float32')\n",
    "psi_file   = np.loadtxt('2qubits_psi.txt')\n",
    "true_psi2  = torch.tensor([psi_file[:,0], psi_file[:,1]], dtype = torch.double)\n",
    "bases      = np.loadtxt('2qubits_train_bases.txt', dtype = str)"
   ]
  },
  {
   "cell_type": "markdown",
   "metadata": {},
   "source": [
    "The following arguments are required to construct a **ComplexRBM** object.\n",
    "\n",
    "1. **A dictionary containing 2x2 unitaries, *unitaries***. We will create this dictionary in the next block with the hand of the module we imported called *unitary_library*.\n",
    "2. **The number of visible units, *num_visible***. This is 2 for the case of our dataset.\n",
    "3. **The number of hidden units in the amplitude hidden layer of the RBM, *num_hidden_amp***. It's recommended that the number of hidden units stay equal to the number of visible units (2 in the case of our dummy dataset).\n",
    "4. **The number of hidden units in the phase hidden layer of the RBM, *num_hidden_amp***. It's recommended that the number of hidden units stay equal to the number of visible units (2 in the case of our dummy dataset)."
   ]
  },
  {
   "cell_type": "code",
   "execution_count": 22,
   "metadata": {},
   "outputs": [],
   "source": [
    "unitaries = unitary_library.create_dict()\n",
    "'''If you would like to add your own quantum gates from your experiment to \"unitaries\", do:\n",
    "unitaries = unitary_library.create_dict(name='your_name', \n",
    "                                        unitary=torch.tensor([[real part], [imaginary part]], dtype=torch.double)\n",
    "For example: \n",
    "unitaries = unitary_library.create_dict(name='qucumber', unitary=torch.tensor([ [[1.,0.],[0.,1.]] \n",
    "                                                                                [[0.,0.],[0.,0.]] ], dtype=torch.double))\n",
    "                                                                                             \n",
    "By default, unitary_library.create_dict() contains the hadamard and K gates with keys X and Y, respectively.'''\n",
    "\n",
    "num_visible      = train_set2.shape[-1] # 2\n",
    "num_hidden_amp   = train_set2.shape[-1] # 2\n",
    "num_hidden_phase = train_set2.shape[-1] # 2"
   ]
  },
  {
   "cell_type": "markdown",
   "metadata": {},
   "source": [
    "Like **BinomialRBM**, a **ComplexRBM** object has a function called *fit* that performs the training. *fit* takes the following arguments.\n",
    "\n",
    "1. ***train_set***. Needed for selecting mini batches of the data.\n",
    "2. ***bases***. Needed for calculating gradients (performing the correct rotations).\n",
    "2. ***true_psi***. Only needed here to compute the fidelity.\n",
    "3. **The number of epochs, *epochs***. The number of training cycles that will be performed. 15 should be fine.\n",
    "4. **The mini batch size, *batch_size***. The number of data points that each mini batch will contain. We'll go with 10.\n",
    "5. **The number of contrastive divergence steps, *k***. One contrastive divergence step seems to be good enough in most cases.\n",
    "6. **The learning rate, *lr***. We will use a learning rate of 0.01 here.\n",
    "7. **How often you would like the program to update you during training, *log_every***. Every 10 epochs the program will print out the fidelity."
   ]
  },
  {
   "cell_type": "code",
   "execution_count": 23,
   "metadata": {},
   "outputs": [],
   "source": [
    "epochs     = 15\n",
    "batch_size = 10\n",
    "k          = 1\n",
    "lr         = 0.01\n",
    "log_every  = 5"
   ]
  },
  {
   "cell_type": "code",
   "execution_count": 24,
   "metadata": {
    "scrolled": true
   },
   "outputs": [
    {
     "data": {
      "application/vnd.jupyter.widget-view+json": {
       "model_id": "c3777d49b3ab407c824019adb9868e45",
       "version_major": 2,
       "version_minor": 0
      },
      "text/plain": [
       "HBox(children=(IntProgress(value=0, description='Training: ', max=15), HTML(value='')))"
      ]
     },
     "metadata": {},
     "output_type": "display_data"
    },
    {
     "name": "stdout",
     "output_type": "stream",
     "text": [
      "Epoch =  0 \n",
      "Fidelity =  tensor(1.00000e-03 *\n",
      "       1.5303, dtype=torch.float64)\n",
      "Epoch =  5 \n",
      "Fidelity =  tensor(0.3501, dtype=torch.float64)\n",
      "Epoch =  10 \n",
      "Fidelity =  tensor(0.9747, dtype=torch.float64)\n",
      "Epoch =  15 \n",
      "Fidelity =  tensor(0.9989, dtype=torch.float64)\n",
      "Finished training. Saving results...\n",
      "Done.\n"
     ]
    },
    {
     "data": {
      "image/png": "[encoded data removed]",
      "text/plain": [
       "<Figure size 432x288 with 1 Axes>"
      ]
     },
     "metadata": {},
     "output_type": "display_data"
    }
   ],
   "source": [
    "rbm_complex = ComplexRBM(num_visible, num_hidden_amp, num_hidden_phase)\n",
    "rbm_complex.fit(train_set2, bases, true_psi2, unitaries, epochs, batch_size, k, lr, log_every)"
   ]
  },
  {
   "cell_type": "markdown",
   "metadata": {},
   "source": [
    "### After Training \n",
    "\n",
    "After training your RBM, the *fit* function will have saved your trained weights and biases for the amplitude and the phase. Now, you have the option to generate new data from the trained RBM. The *rbm_real* object has a *sample* function that takes the following arguments.\n",
    "\n",
    "1. The number of samples you wish to generate, *num_samples*.\n",
    "2. The number of contrastive divergence steps performed to generate the samples, *k*."
   ]
  },
  {
   "cell_type": "code",
   "execution_count": 25,
   "metadata": {},
   "outputs": [],
   "source": [
    "num_samples = 100\n",
    "k           = 10\n",
    "\n",
    "rbm_complex.sample(num_samples, k)"
   ]
  },
  {
   "cell_type": "markdown",
   "metadata": {},
   "source": [
    "You will now find the *generated_samples_complexRBM.pkl* file in your directory that contains your new samples."
   ]
  }
 ],
 "metadata": {
  "kernelspec": {
   "display_name": "Python 3",
   "language": "python",
   "name": "python3"
  },
  "language_info": {
   "codemirror_mode": {
    "name": "ipython",
    "version": 3
   },
   "file_extension": ".py",
   "mimetype": "text/x-python",
   "name": "python",
   "nbconvert_exporter": "python",
   "pygments_lexer": "ipython3",
   "version": "3.6.5"
  }
 },
 "nbformat": 4,
 "nbformat_minor": 2
}
