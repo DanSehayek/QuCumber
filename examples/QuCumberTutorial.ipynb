{
 "cells": [
  {
   "cell_type": "markdown",
   "metadata": {},
   "source": [
    "# Training and Sampling a Restricted Boltzmann Machine with QuCumber\n",
    "\n",
    "Welcome to the tutorial for QuCumber, by PIQuIL.\n",
    "\n",
    "<img src=\"rsz_1pickle_logo_white-1.png\" width=\"300\">\n",
    "\n",
    "The purpose of this tutorial will be to walk you through what QuCumber can do. QuCumber is a neural network quantum state tomography (QST) package that can reconstruct a postitive-real and/or a complex wavefunction (in development) given your data as input and that can generate new data given trained parameters. We recommend that you read through our brief, but thorough, theoretical breakdown of Restricted Boltzmann Machines (RBM) - the neural network behind QuCumber - before going through with this tutorial if you do not have any previous knowledge of RBMs. **LINK NEEDED**\n",
    "\n",
    "If you'd like to skip all of this and start using QuCumber on your machine with your own data, please click [here](./QuCumberTutorial_YourMachine.html).\n",
    "\n",
    "## Download the Tutorial\n",
    "\n",
    "If you'd like to run the tutorial on your machine, please head to **LINK NEEDED** and download the tutorial folder, which should contain the following.\n",
    "\n",
    " - rbm_tutorial.py,\n",
    " - cplx.py\n",
    " - unitary_library.py\n",
    " - observables.py\n",
    " - tfim1d_N10_train_samples.txt,\n",
    " - 2qubits_train_samples.txt,\n",
    " - tfim1d_N10_psi.txt,\n",
    " - 2qubits_train_bases.txt,\n",
    " - 2qubits_psi.txt,\n",
    " \n",
    "## Comments Before Getting Started\n",
    "\n",
    "This tutorial is sectioned into two parts that will walk you through the following.\n",
    "\n",
    "1. Training an RBM to reconstruct a positive-real wavefunction (i.e. no phase) and then generating new data.\n",
    "2. Training an RBM to reconstruct a complex wavefunction (i.e. with a phase) and then generating new data.\n",
    "\n",
    "<p style=\"color:red\"><i><b>Before you begin, please ensure that you have installed the following.</b></i></p>\n",
    "\n",
    " - Python 3\n",
    "     - numpy, matplotlib, csv (should come with conda)\n",
    "     - tqdm (a progress bar package: https://pypi.org/project/tqdm/3.1.4/)\n",
    " - Pytorch (https://pytorch.org/)\n",
    " \n",
    "Go to:\n",
    "\n",
    "[Part 1](./QuCumberTutorialReal.html)\n",
    "[Part 2](./QuCumberTutorialComplex.html)"
   ]
  }
 ],
 "metadata": {
  "kernelspec": {
   "display_name": "Python 3",
   "language": "python",
   "name": "python3"
  },
  "language_info": {
   "codemirror_mode": {
    "name": "ipython",
    "version": 3
   },
   "file_extension": ".py",
   "mimetype": "text/x-python",
   "name": "python",
   "nbconvert_exporter": "python",
   "pygments_lexer": "ipython3",
   "version": "3.6.5"
  }
 },
 "nbformat": 4,
 "nbformat_minor": 2
}
