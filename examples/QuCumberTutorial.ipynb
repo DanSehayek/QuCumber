{
 "cells": [
  {
   "cell_type": "markdown",
   "metadata": {},
   "source": [
    "# Getting started: quantum state reconstruction using QuCumber\n",
    "\n",
    "Welcome to the tutorial for QuCumber, by PIQuIL.\n",
    "\n",
    "<img src=\"rsz_1pickle_logo_white-1.png\" width=\"200\">\n",
    "\n",
    "The purpose of this tutorial is to walk you through what QuCumber can do. QuCumber is a neural network-based package that can reconstruct a quantum wavefunction, given a data set of measurements. Once trained, QuCumber can generate new data and physical properties.  We recommend that you read through our brief, but thorough, theoretical breakdown of Restricted Boltzmann Machines (RBMs) - the stochastic neural network behind QuCumber - before going through with this tutorial.\n",
    "\n",
    "If you'd like to skip all of this and start using QuCumber on your machine with your own data, please click [here](tutorial.rst).\n",
    "\n",
    "## Download the Tutorial\n",
    "\n",
    "If you'd like to run the tutorial on your machine, please go to our github [repository](https://github.com/MelkoCollective/QuCumber/tree/refactor-rbm). In the examples folder, you should find the following files.\n",
    "\n",
    " - rbm_tutorial.py\n",
    " - cplx.py\n",
    " - unitary_library.py\n",
    " - observables_tutorial.py\n",
    " - tfim1d_N10_train_samples.txt\n",
    " - 2qubits_train_samples.txt\n",
    " - tfim1d_N10_psi.txt\n",
    " - 2qubits_train_bases.txt\n",
    " - 2qubits_psi.txt\n",
    " \n",
    "## Comments Before Getting Started\n",
    "\n",
    "This tutorial is sectioned into two parts that will walk you through the following:\n",
    "\n",
    "1. Training an RBM to reconstruct a positive-real wavefunction (i.e. no phase) and then generating new data.\n",
    "2. Training an RBM to reconstruct a complex wavefunction (i.e. with a phase) and then generating new data.\n",
    "\n",
    "<p style=\"color:red\"><i><b>Before you begin, please ensure that you have installed the following:</b></i></p>\n",
    "\n",
    " - Python 3\n",
    "     - numpy, matplotlib, csv (should come with conda)\n",
    " - PyTorch (https://pytorch.org/)"
   ]
  },
  {
   "cell_type": "code",
   "execution_count": null,
   "metadata": {},
   "outputs": [],
   "source": []
  }
 ],
 "metadata": {
  "kernelspec": {
   "display_name": "Python 3",
   "language": "python",
   "name": "python3"
  },
  "language_info": {
   "codemirror_mode": {
    "name": "ipython",
    "version": 3
   },
   "file_extension": ".py",
   "mimetype": "text/x-python",
   "name": "python",
   "nbconvert_exporter": "python",
   "pygments_lexer": "ipython3",
   "version": "3.6.5"
  }
 },
 "nbformat": 4,
 "nbformat_minor": 2
}
