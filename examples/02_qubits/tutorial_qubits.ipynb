{
 "cells": [
  {
   "cell_type": "markdown",
   "metadata": {},
   "source": [
    "# Part 2: Training an RBM *with* a phase\n",
    "\n",
    "## Getting Started\n",
    "\n",
    "In this tutorial we work through a simple example for full quantum state tomography of a complex wavefunction with two qubits. \n",
    "First we load the packages needed"
   ]
  },
  {
   "cell_type": "code",
   "execution_count": 1,
   "metadata": {},
   "outputs": [],
   "source": [
    "import torch\n",
    "import numpy as np\n",
    "import pickle\n",
    "\n",
    "from qucumber.nn_states import ComplexWavefunction\n",
    "\n",
    "from qucumber.callbacks import MetricEvaluator\n",
    "\n",
    "import qucumber.utils.training_statistics as ts\n",
    "import qucumber.utils.data as data              \n",
    "import qucumber.utils.cplx as cplx              \n",
    "import qucumber.utils.unitaries as unitaries    "
   ]
  },
  {
   "cell_type": "markdown",
   "metadata": {},
   "source": [
    "## Training\n",
    "\n",
    "The data set comprises the measurements \\verb|'qubits_train_samples.txt'|, the unitaries that have been applied before the measurement \\verb|'qubits_train_bases.txt'| and the actual wavefunction $| \\psi \\rangle$ the measurements have been sampled from \\verb|'qubits_psi.txt'|.\n",
    "\n",
    "Load the files the following way:"
   ]
  },
  {
   "cell_type": "code",
   "execution_count": 2,
   "metadata": {},
   "outputs": [],
   "source": [
    "train_samples_path = 'qubits_train_samples.txt'\n",
    "train_bases_path   = 'qubits_train_bases.txt'\n",
    "bases_path         = 'qubits_bases.txt'\n",
    "psi_path           = 'qubits_psi.txt'\n",
    "\n",
    "train_samples,target_psi,train_bases,bases = data.load_data(train_samples_path, \n",
    "                                                            psi_path, \n",
    "                                                            train_bases_path, \n",
    "                                                            bases_path)"
   ]
  },
  {
   "cell_type": "markdown",
   "metadata": {},
   "source": [
    "To construct a **ComplexWavefunction** neural network state we need to create a dictionary that contains the unitaries that have been applied during the measurements. In our case this were the unitaries $\\mathbb{1}$, $H$, $K$."
   ]
  },
  {
   "cell_type": "code",
   "execution_count": 3,
   "metadata": {},
   "outputs": [],
   "source": [
    "unitary_dict = unitaries.create_dict()\n",
    "'''If you would like to add your own quantum gates from your experiment to \n",
    "   \"unitary_dict\", do:\n",
    "   unitary_dict = unitaries.create_dict(name='your_name', \n",
    "                                        unitary=torch.tensor([[real part], \n",
    "                                                              [imaginary part]], \n",
    "                                                             dtype=torch.double)\n",
    "                                                             \n",
    "   For example: \n",
    "   unitaries = unitary_library.create_dict(name='qucumber', \n",
    "                                           unitary=torch.tensor([ [[1.,0.],[0.,1.]] \n",
    "                                                                  [[0.,0.],[0.,0.]] ], \n",
    "                                                                dtype=torch.double))\n",
    "                                                                                             \n",
    "   By default, unitary_library.create_dict() contains the idenity matrix and the \n",
    "   hadamard and K gates with keys Z, X and Y, respectively.\n",
    "'''"
   ]
  },
  {
   "cell_type": "markdown",
   "metadata": {},
   "source": [
    "The number of visible units \\verb|nv| is equal to the number of qubits or the length of a tarining sample (\\verb|train_sample|). The number of hidden units \\verb|nh| we set equal to the number of visible units.\n",
    "\n",
    "One may also choose to run this tutorial on a GPU by adding in \"gpu = True\" as an argument to **ComplexWavefunction**. "
   ]
  },
  {
   "cell_type": "code",
   "execution_count": 3,
   "metadata": {},
   "outputs": [],
   "source": [
    "nv = train_samples.shape[-1]\n",
    "nh = nv\n",
    "\n",
    "nn_state = ComplexWavefunction(num_visible=nv, num_hidden=nh, unitary_dict=unitary_dict, gpu=False)"
   ]
  },
  {
   "cell_type": "markdown",
   "metadata": {},
   "source": [
    "Now we can specify the training parameters:\n",
    "\n",
    "1. **epochs**: the number of epochs, i.e. training cycles that will be performed.\n",
    "2. **batch_size**: the number of data points used in the positive phase of the gradient.\n",
    "3. **num_chains**: the number of data points used in the negative phase of the gradient.\n",
    "4. **CD**: the number of contrastive divergence steps; CD=1 seems to be good enough in most cases\n",
    "5. **lr**: the learning rate.\n",
    "6. **log_every**: how often you would like the program to update you during the training; say we choose 10 - that is, every 10 epochs the program will print out the fidelity. This parameter is required in the *MetricEvaluator*."
   ]
  },
  {
   "cell_type": "code",
   "execution_count": 4,
   "metadata": {},
   "outputs": [],
   "source": [
    "epochs     = 700\n",
    "num_chains = 10\n",
    "batch_size = 50\n",
    "CD         = 2\n",
    "lr         = 0.01\n",
    "log_every  = 100"
   ]
  },
  {
   "cell_type": "markdown",
   "metadata": {},
   "source": [
    "To evaluate how the RBM is training, we will compute the full KL divergence and the fidelity between the true wavefunction of the system and the wavefunction the RBM reconstructs.\n",
    "This can be done by initializing the parameters of the **ComplexWavefunction** and the **MetricEvaluator**."
   ]
  },
  {
   "cell_type": "code",
   "execution_count": 5,
   "metadata": {},
   "outputs": [],
   "source": [
    "nn_state.space = nn_state.generate_hilbert_space(nv) # generate the entire visible space of the system.\n",
    "callbacks      = [MetricEvaluator(log_every,{'Fidelity':ts.fidelity,'KL':ts.KL},target_psi=target_psi,bases=bases,\n",
    "                                  verbose=True, space=nn_state.space)]\n",
    "# The \"verbose=True\" argument will print the parameters in { } as a function of the training process."
   ]
  },
  {
   "cell_type": "markdown",
   "metadata": {},
   "source": [
    "After initializing everything we can start the training."
   ]
  },
  {
   "cell_type": "code",
   "execution_count": 6,
   "metadata": {
    "scrolled": true
   },
   "outputs": [
    {
     "name": "stdout",
     "output_type": "stream",
     "text": [
      "Epoch: 100\tFidelity = 0.908416\tKL = 0.044572\n",
      "Epoch: 200\tFidelity = 0.963343\tKL = 0.020658\n",
      "Epoch: 300\tFidelity = 0.977993\tKL = 0.014376\n",
      "Epoch: 400\tFidelity = 0.984328\tKL = 0.011163\n",
      "Epoch: 500\tFidelity = 0.985614\tKL = 0.010323\n",
      "Epoch: 600\tFidelity = 0.988434\tKL = 0.008806\n",
      "Epoch: 700\tFidelity = 0.988839\tKL = 0.008166\n"
     ]
    }
   ],
   "source": [
    "nn_state.fit(train_samples, epochs, batch_size, num_chains, CD,\n",
    "       lr, input_bases=train_bases, progbar=False, callbacks=callbacks)"
   ]
  },
  {
   "cell_type": "markdown",
   "metadata": {},
   "source": [
    "### After Training \n",
    "\n",
    "After the training we can calculate state fidelity, observables or sample from the complex wavefunction\n",
    "the same way we did from the real-positive wavefunction. However, one has to keep in mind that the sampling only works in the Z basis.\n",
    "\n",
    "To sample from a trained complex wavefunction we define the number of samples *num_samples* we want to draw and the number of contrastive divergence steps *CD*. "
   ]
  },
  {
   "cell_type": "code",
   "execution_count": 7,
   "metadata": {},
   "outputs": [],
   "source": [
    "num_samples = 2000\n",
    "CD          = 200\n",
    "\n",
    "samples = nn_state.sample(num_samples, CD)"
   ]
  },
  {
   "cell_type": "markdown",
   "metadata": {},
   "source": [
    "Also analogous to the positiv-real wavefunction we can save and load the RBM parameters and the newly generated samples using the *save* function within the ComplexWavefunction object and save additional quantities like e.g. *the samples* to the same file with the *metadata*."
   ]
  },
  {
   "cell_type": "code",
   "execution_count": 8,
   "metadata": {},
   "outputs": [],
   "source": [
    "nn_state.save('saved_parameters.pkl', metadata={'Samples':samples})"
   ]
  }
 ],
 "metadata": {
  "kernelspec": {
   "display_name": "Python 3",
   "language": "python",
   "name": "python3"
  },
  "language_info": {
   "codemirror_mode": {
    "name": "ipython",
    "version": 3
   },
   "file_extension": ".py",
   "mimetype": "text/x-python",
   "name": "python",
   "nbconvert_exporter": "python",
   "pygments_lexer": "ipython3",
   "version": "3.6.4"
  }
 },
 "nbformat": 4,
 "nbformat_minor": 2
}
