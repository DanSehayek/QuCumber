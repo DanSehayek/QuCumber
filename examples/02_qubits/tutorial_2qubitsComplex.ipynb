{
 "cells": [
  {
   "cell_type": "markdown",
   "metadata": {},
   "source": [
    "IN DEVELOPMENT\n",
    "\n",
    "# Part 2: Training an RBM *with* a phase\n",
    "\n",
    "## Getting Started\n",
    "\n",
    "The following imports are needed to run this tutorial."
   ]
  },
  {
   "cell_type": "code",
   "execution_count": 12,
   "metadata": {},
   "outputs": [
    {
     "ename": "ModuleNotFoundError",
     "evalue": "No module named 'qucumber'",
     "output_type": "error",
     "traceback": [
      "\u001b[0;31m---------------------------------------------------------------------------\u001b[0m",
      "\u001b[0;31mModuleNotFoundError\u001b[0m                       Traceback (most recent call last)",
      "\u001b[0;32m<ipython-input-12-ba6621271ca3>\u001b[0m in \u001b[0;36m<module>\u001b[0;34m()\u001b[0m\n\u001b[1;32m      4\u001b[0m \u001b[0;32mimport\u001b[0m \u001b[0mpickle\u001b[0m\u001b[0;34m\u001b[0m\u001b[0m\n\u001b[1;32m      5\u001b[0m \u001b[0;34m\u001b[0m\u001b[0m\n\u001b[0;32m----> 6\u001b[0;31m \u001b[0;32mfrom\u001b[0m \u001b[0mqucumber\u001b[0m\u001b[0;34m.\u001b[0m\u001b[0mbinary_rbm\u001b[0m \u001b[0;32mimport\u001b[0m \u001b[0mBinaryRBM\u001b[0m\u001b[0;34m\u001b[0m\u001b[0m\n\u001b[0m\u001b[1;32m      7\u001b[0m \u001b[0;32mfrom\u001b[0m \u001b[0mqucumber\u001b[0m\u001b[0;34m.\u001b[0m\u001b[0mquantum_reconstruction\u001b[0m \u001b[0;32mimport\u001b[0m \u001b[0mQuantumReconstruction\u001b[0m\u001b[0;34m\u001b[0m\u001b[0m\n\u001b[1;32m      8\u001b[0m \u001b[0;32mfrom\u001b[0m \u001b[0mqucumber\u001b[0m\u001b[0;34m.\u001b[0m\u001b[0mcomplex_wavefunction\u001b[0m \u001b[0;32mimport\u001b[0m \u001b[0mComplexWavefunction\u001b[0m\u001b[0;34m\u001b[0m\u001b[0m\n",
      "\u001b[0;31mModuleNotFoundError\u001b[0m: No module named 'qucumber'"
     ]
    }
   ],
   "source": [
    "import torch\n",
    "import numpy as np\n",
    "import csv\n",
    "import pickle\n",
    "\n",
    "from qucumber.binary_rbm import BinaryRBM\n",
    "from qucumber.quantum_reconstruction import QuantumReconstruction\n",
    "from qucumber.complex_wavefunction import ComplexWavefunction\n",
    "\n",
    "import qucumber.callbacks as MetricEvaluator \n",
    "\n",
    "import qucumber.utils.data as data              # for importing data\n",
    "import qucumber.utils.cplx as cplx              # for complex algebra in torch\n",
    "import qucumber.utils.unitaries as unitaries    # for importing unitary operators / gates\n",
    "\n",
    "'''\n",
    "#from rbm_tutorial import RBM_Module, BinomialRBM\n",
    "import torch\n",
    "#from observables_tutorial import TFIMChainEnergy, TFIMChainMagnetization\n",
    "import numpy as np\n",
    "import csv\n",
    "%matplotlib inline\n",
    "import sys\n",
    "sys.path.append('../../qucumber/')\n",
    "from complex_wavefunction import ComplexWavefunction\n",
    "from quantum_reconstruction import QuantumReconstruction\n",
    "sys.path.append('../../qucumber/utils/')\n",
    "import unitaries\n",
    "import utils.training_statistics as ts\n",
    "import pickle\n",
    "#import importlib.util\n",
    "#%load_ext autoreload\n",
    "#%autoreload 2\n",
    "#%matplotlib notebook\n",
    "'''"
   ]
  },
  {
   "cell_type": "markdown",
   "metadata": {},
   "source": [
    "The _BinaryRBM_ class in *binary_rbm.py* contains the generic properties of an RBM with a binary visible and hidden layer (e.g. it's effective energy and sampling the hidden and visible layers). \n",
    "\n",
    "The actual quantum wavefunction reconstruction occurs in the _QuantumReconstruction_ class in *quantum_reconstruction.py*. A _QuantumReconstruction_ object is initialized with a neural network state (in this case, a *ComplexWavefunction* object).\n",
    "\n",
    "*MetricEvaluator* in *callbacks.py* contains functions that allow the user to evaluate the quality of the training (i.e. based on the fidelity or KL divergence).\n",
    "\n",
    "## Training\n",
    "\n",
    "Let's go through training a complex wavefunction. To evaluate how the RBM is training, we will compute the full KL divergence and the fidelity between the true wavefunction of the system and the wavefunction the RBM reconstructs. We first need to load our training data and the true wavefunction of this system. However, we also need the corresponding file that contains all of the measurements that each site is in. The dummy dataset we will train our RBM on is a two qubit system who's wavefunction is $\\psi =\\left.\\frac{1}{2}\\right\\vert+,+\\rangle - \\left.\\frac{1}{2}\\right\\vert+,-\\rangle + \\left.\\frac{i}{2}\\right\\vert-,+\\rangle - \\left.\\frac{i}{2}\\right\\vert-,-\\rangle$, where $+$ and $-$ represent spin-up and spin-down, respectively."
   ]
  },
  {
   "cell_type": "code",
   "execution_count": 13,
   "metadata": {},
   "outputs": [
    {
     "ename": "NameError",
     "evalue": "name 'data' is not defined",
     "output_type": "error",
     "traceback": [
      "\u001b[0;31m---------------------------------------------------------------------------\u001b[0m",
      "\u001b[0;31mNameError\u001b[0m                                 Traceback (most recent call last)",
      "\u001b[0;32m<ipython-input-13-ea4a596b1e51>\u001b[0m in \u001b[0;36m<module>\u001b[0;34m()\u001b[0m\n\u001b[1;32m      4\u001b[0m \u001b[0mpsi_path\u001b[0m           \u001b[0;34m=\u001b[0m \u001b[0;34m'qubits_psi.txt'\u001b[0m\u001b[0;34m\u001b[0m\u001b[0m\n\u001b[1;32m      5\u001b[0m \u001b[0;34m\u001b[0m\u001b[0m\n\u001b[0;32m----> 6\u001b[0;31m train_samples,target_psi,train_bases,bases = data.load_data(train_samples_path, \n\u001b[0m\u001b[1;32m      7\u001b[0m                                                             \u001b[0mpsi_path\u001b[0m\u001b[0;34m,\u001b[0m\u001b[0;34m\u001b[0m\u001b[0m\n\u001b[1;32m      8\u001b[0m                                                             \u001b[0mtrain_bases_path\u001b[0m\u001b[0;34m,\u001b[0m\u001b[0;34m\u001b[0m\u001b[0m\n",
      "\u001b[0;31mNameError\u001b[0m: name 'data' is not defined"
     ]
    }
   ],
   "source": [
    "train_samples_path = 'qubits_train_samples.txt'\n",
    "train_bases_path   = 'qubits_train_bases.txt'\n",
    "bases_path         = 'qubits_bases.txt'\n",
    "psi_path           = 'qubits_psi.txt'\n",
    "\n",
    "train_samples,target_psi,train_bases,bases = data.load_data(train_samples_path, \n",
    "                                                            psi_path, \n",
    "                                                            train_bases_path, \n",
    "                                                            bases_path)"
   ]
  },
  {
   "cell_type": "markdown",
   "metadata": {},
   "source": [
    "The following arguments are required to construct a **ComplexWavefunction** neural network state:\n",
    "\n",
    "1. **A dictionary of unitary operators**. This will contain the (2 x 2) unitary matrices / gates.\n",
    "2. **The number of visible units**. This is 2 for the case of our dataset.\n",
    "3. **The number of hidden units in the hidden layer of the RBM**. This number is set to the number of visible units by default (10 in the case of our dataset)."
   ]
  },
  {
   "cell_type": "code",
   "execution_count": 7,
   "metadata": {},
   "outputs": [
    {
     "ename": "NameError",
     "evalue": "name 'unitaries' is not defined",
     "output_type": "error",
     "traceback": [
      "\u001b[0;31m---------------------------------------------------------------------------\u001b[0m",
      "\u001b[0;31mNameError\u001b[0m                                 Traceback (most recent call last)",
      "\u001b[0;32m<ipython-input-7-57ef2c38c85d>\u001b[0m in \u001b[0;36m<module>\u001b[0;34m()\u001b[0m\n\u001b[0;32m----> 1\u001b[0;31m \u001b[0munitary_dict\u001b[0m \u001b[0;34m=\u001b[0m \u001b[0munitaries\u001b[0m\u001b[0;34m.\u001b[0m\u001b[0mcreate_dict\u001b[0m\u001b[0;34m(\u001b[0m\u001b[0;34m)\u001b[0m\u001b[0;34m\u001b[0m\u001b[0m\n\u001b[0m\u001b[1;32m      2\u001b[0m '''If you would like to add your own quantum gates from your experiment to \n\u001b[1;32m      3\u001b[0m    \u001b[0;34m\"unitary_dict\"\u001b[0m\u001b[0;34m,\u001b[0m \u001b[0mdo\u001b[0m\u001b[0;34m:\u001b[0m\u001b[0;34m\u001b[0m\u001b[0m\n\u001b[1;32m      4\u001b[0m    unitary_dict = unitaries.create_dict(name='your_name', \n\u001b[1;32m      5\u001b[0m                                         unitary=torch.tensor([[real part], \n",
      "\u001b[0;31mNameError\u001b[0m: name 'unitaries' is not defined"
     ]
    }
   ],
   "source": [
    "unitary_dict = unitaries.create_dict()\n",
    "'''If you would like to add your own quantum gates from your experiment to \n",
    "   \"unitary_dict\", do:\n",
    "   unitary_dict = unitaries.create_dict(name='your_name', \n",
    "                                        unitary=torch.tensor([[real part], \n",
    "                                                              [imaginary part]], \n",
    "                                                             dtype=torch.double)\n",
    "                                                             \n",
    "   For example: \n",
    "   unitaries = unitary_library.create_dict(name='qucumber', \n",
    "                                           unitary=torch.tensor([ [[1.,0.],[0.,1.]] \n",
    "                                                                  [[0.,0.],[0.,0.]] ], \n",
    "                                                                dtype=torch.double))\n",
    "                                                                                             \n",
    "   By default, unitary_library.create_dict() contains the idenity matrix and the \n",
    "   hadamard and K gates with keys Z, X and Y, respectively.\n",
    "'''\n",
    "\n",
    "nv = train_samples.shape[-1]\n",
    "nh = nv\n",
    "\n",
    "nn_state = ComplexWavefunction(unitary_dict, num_visible=nv, num_hidden=nh)"
   ]
  },
  {
   "cell_type": "markdown",
   "metadata": {},
   "source": [
    "Now we can specify the parameters of the training process:\n",
    "\n",
    "1. **epochs**: the number of epochs, i.e. training cycles that will be performed; 1000 should be fine\n",
    "2. **batch_size**: the number of data points used in the positive phase of the gradient; we'll go with 100\n",
    "3. **num_chains**: the number of data points used in the negative phase of the gradient. Keeping this larger than the *batch_size* is preferred; we'll go with 200\n",
    "4. **CD**: the number of contrastive divergence steps; CD=1 seems to be good enough in most cases\n",
    "5. **lr**: the learning rate; we will use a learning rate of 0.01 here\n",
    "6. **log_every**: how often you would like the program to update you during the training; we choose 50 - that is, every 50 epochs the program will print out the fidelity. This parameter is required in the MetricEvaluator."
   ]
  },
  {
   "cell_type": "code",
   "execution_count": 1,
   "metadata": {},
   "outputs": [],
   "source": [
    "epochs     = 100\n",
    "num_chains = 10\n",
    "batch_size = 5\n",
    "CD          = 5\n",
    "lr         = 0.1\n",
    "log_every  = 10"
   ]
  },
  {
   "cell_type": "markdown",
   "metadata": {},
   "source": [
    "Once we initialize the parameters of the *ComplexWavefunction* and the *MetricEvaluator*, we can now begin training. Our *QuantumReconstruction* object, *qr* (see below), contains a function called *fit* that executes the training process."
   ]
  },
  {
   "cell_type": "code",
   "execution_count": 1,
   "metadata": {},
   "outputs": [
    {
     "ename": "NameError",
     "evalue": "name 'nn_state' is not defined",
     "output_type": "error",
     "traceback": [
      "\u001b[0;31m---------------------------------------------------------------------------\u001b[0m",
      "\u001b[0;31mNameError\u001b[0m                                 Traceback (most recent call last)",
      "\u001b[0;32m<ipython-input-1-429e69f60477>\u001b[0m in \u001b[0;36m<module>\u001b[0;34m()\u001b[0m\n\u001b[0;32m----> 1\u001b[0;31m \u001b[0mnn_state\u001b[0m\u001b[0;34m.\u001b[0m\u001b[0mrandomize\u001b[0m\u001b[0;34m(\u001b[0m\u001b[0;34m)\u001b[0m \u001b[0;31m# Initialize the parameters (weights and biases) of the nn_state to random numbers.\u001b[0m\u001b[0;34m\u001b[0m\u001b[0m\n\u001b[0m\u001b[1;32m      2\u001b[0m \u001b[0mnn_state\u001b[0m\u001b[0;34m.\u001b[0m\u001b[0mspace\u001b[0m \u001b[0;34m=\u001b[0m \u001b[0mnn_state\u001b[0m\u001b[0;34m.\u001b[0m\u001b[0mgenerate_Hilbert_space\u001b[0m\u001b[0;34m(\u001b[0m\u001b[0mnv\u001b[0m\u001b[0;34m)\u001b[0m \u001b[0;31m# generate the entire visible space of the system.\u001b[0m\u001b[0;34m\u001b[0m\u001b[0m\n\u001b[1;32m      3\u001b[0m \u001b[0mcallbacks\u001b[0m      \u001b[0;34m=\u001b[0m \u001b[0;34m[\u001b[0m\u001b[0mMetricEvaluator\u001b[0m\u001b[0;34m(\u001b[0m\u001b[0mlog_every\u001b[0m\u001b[0;34m,\u001b[0m\u001b[0;34m{\u001b[0m\u001b[0;34m'Fidelity'\u001b[0m\u001b[0;34m:\u001b[0m\u001b[0mts\u001b[0m\u001b[0;34m.\u001b[0m\u001b[0mfidelity\u001b[0m\u001b[0;34m,\u001b[0m\u001b[0;34m'KL'\u001b[0m\u001b[0;34m:\u001b[0m\u001b[0mts\u001b[0m\u001b[0;34m.\u001b[0m\u001b[0mKL\u001b[0m\u001b[0;34m}\u001b[0m\u001b[0;34m,\u001b[0m\u001b[0mtarget_psi\u001b[0m\u001b[0;34m=\u001b[0m\u001b[0mtarget_psi\u001b[0m\u001b[0;34m,\u001b[0m\u001b[0mbases\u001b[0m\u001b[0;34m=\u001b[0m\u001b[0mbases\u001b[0m\u001b[0;34m)\u001b[0m\u001b[0;34m]\u001b[0m\u001b[0;34m\u001b[0m\u001b[0m\n\u001b[1;32m      4\u001b[0m \u001b[0mz_samples\u001b[0m      \u001b[0;34m=\u001b[0m \u001b[0mdata\u001b[0m\u001b[0;34m.\u001b[0m\u001b[0mextract_refbasis_samples\u001b[0m\u001b[0;34m(\u001b[0m\u001b[0mtrain_samples\u001b[0m\u001b[0;34m,\u001b[0m\u001b[0mtrain_bases\u001b[0m\u001b[0;34m)\u001b[0m \u001b[0;31m# required for the negative phase of the\u001b[0m\u001b[0;34m\u001b[0m\u001b[0m\n\u001b[1;32m      5\u001b[0m                                                                           \u001b[0;31m# gradient of the effective energy\u001b[0m\u001b[0;34m\u001b[0m\u001b[0;34m\u001b[0m\u001b[0m\n",
      "\u001b[0;31mNameError\u001b[0m: name 'nn_state' is not defined"
     ]
    }
   ],
   "source": [
    "nn_state.space = nn_state.generate_Hilbert_space(nv) # generate the entire visible space of the system.\n",
    "callbacks      = [MetricEvaluator(log_every,{'Fidelity':ts.fidelity,'KL':ts.KL},target_psi=target_psi,bases=bases)]\n",
    "z_samples      = data.extract_refbasis_samples(train_samples,train_bases) # required for the negative phase of the\n",
    "                                                                          # gradient of the effective energy\n",
    "    \n",
    "qr = QuantumReconstruction(nn_state)\n",
    "\n",
    "qr.fit(train_samples, epochs, batch_size, num_chains, CD,\n",
    "       lr, input_bases=train_bases, progbar=False, callbacks = callbacks,\n",
    "       z_samples = z_samples)"
   ]
  },
  {
   "cell_type": "markdown",
   "metadata": {},
   "source": [
    "### After Training \n",
    "\n",
    "After training your RBM, the *fit* function will have stored your trained weights and biases for the amplitude and the phase. Now, you have the option to generate new data from the trained RBM. The *rbm_real* object has a *sample* function that takes the following arguments.\n",
    "\n",
    "1. The number of samples you wish to generate, *num_samples*.\n",
    "2. The number of contrastive divergence steps performed to generate the samples, *k*."
   ]
  },
  {
   "cell_type": "code",
   "execution_count": 17,
   "metadata": {},
   "outputs": [
    {
     "ename": "NameError",
     "evalue": "name 'ComplexWavefunction' is not defined",
     "output_type": "error",
     "traceback": [
      "\u001b[0;31m---------------------------------------------------------------------------\u001b[0m",
      "\u001b[0;31mNameError\u001b[0m                                 Traceback (most recent call last)",
      "\u001b[0;32m<ipython-input-17-470645876c16>\u001b[0m in \u001b[0;36m<module>\u001b[0;34m()\u001b[0m\n\u001b[1;32m      2\u001b[0m \u001b[0mCD\u001b[0m          \u001b[0;34m=\u001b[0m \u001b[0;36m200\u001b[0m\u001b[0;34m\u001b[0m\u001b[0m\n\u001b[1;32m      3\u001b[0m \u001b[0;34m\u001b[0m\u001b[0m\n\u001b[0;32m----> 4\u001b[0;31m \u001b[0mComplexWavefunction\u001b[0m\u001b[0;34m.\u001b[0m\u001b[0msample\u001b[0m\u001b[0;34m(\u001b[0m\u001b[0mCD\u001b[0m\u001b[0;34m)\u001b[0m\u001b[0;34m\u001b[0m\u001b[0m\n\u001b[0m\u001b[1;32m      5\u001b[0m \u001b[0msamples\u001b[0m \u001b[0;34m=\u001b[0m \u001b[0mComplexWavefunction\u001b[0m\u001b[0;34m.\u001b[0m\u001b[0mvisible_state\u001b[0m\u001b[0;34m\u001b[0m\u001b[0m\n",
      "\u001b[0;31mNameError\u001b[0m: name 'ComplexWavefunction' is not defined"
     ]
    }
   ],
   "source": [
    "num_samples = 50000\n",
    "CD          = 200\n",
    "\n",
    "nn_state.sample(CD)\n",
    "samples = nn_state.visible_state"
   ]
  },
  {
   "cell_type": "markdown",
   "metadata": {},
   "source": [
    "We can save the RBM parameters and the newly generated samples using the *save* function within the ComplexWavefunction object."
   ]
  },
  {
   "cell_type": "code",
   "execution_count": 18,
   "metadata": {},
   "outputs": [
    {
     "ename": "NameError",
     "evalue": "name 'nn_state' is not defined",
     "output_type": "error",
     "traceback": [
      "\u001b[0;31m---------------------------------------------------------------------------\u001b[0m",
      "\u001b[0;31mNameError\u001b[0m                                 Traceback (most recent call last)",
      "\u001b[0;32m<ipython-input-18-b9c68b29f6e7>\u001b[0m in \u001b[0;36m<module>\u001b[0;34m()\u001b[0m\n\u001b[0;32m----> 1\u001b[0;31m \u001b[0mnn_state\u001b[0m\u001b[0;34m.\u001b[0m\u001b[0msave\u001b[0m\u001b[0;34m(\u001b[0m\u001b[0;34m'saved_parameters.pkl'\u001b[0m\u001b[0;34m,\u001b[0m \u001b[0mmetadata\u001b[0m\u001b[0;34m=\u001b[0m\u001b[0;34m{\u001b[0m\u001b[0;34m'Samples'\u001b[0m\u001b[0;34m:\u001b[0m\u001b[0msamples\u001b[0m\u001b[0;34m}\u001b[0m\u001b[0;34m)\u001b[0m\u001b[0;34m\u001b[0m\u001b[0m\n\u001b[0m",
      "\u001b[0;31mNameError\u001b[0m: name 'nn_state' is not defined"
     ]
    }
   ],
   "source": [
    "nn_state.save('saved_parameters.pkl', metadata={'Samples':samples})"
   ]
  }
 ],
 "metadata": {
  "kernelspec": {
   "display_name": "Python 3",
   "language": "python",
   "name": "python3"
  },
  "language_info": {
   "codemirror_mode": {
    "name": "ipython",
    "version": 3
   },
   "file_extension": ".py",
   "mimetype": "text/x-python",
   "name": "python",
   "nbconvert_exporter": "python",
   "pygments_lexer": "ipython3",
   "version": "3.6.5"
  }
 },
 "nbformat": 4,
 "nbformat_minor": 2
}
