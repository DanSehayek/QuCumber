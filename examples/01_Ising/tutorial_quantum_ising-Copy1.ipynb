{
 "cells": [
  {
   "cell_type": "markdown",
   "metadata": {},
   "source": [
    "# Reconstruction of a positive real wavefunction\n",
    "\n",
    "In this tutorial, we discuss\n",
    "the application of QuCumber to wavefunctions that are positive and real-valued\n",
    "in the computational basis. That is, the expansion of the wave function has all\n",
    "positive and real coefficients in the basis in which experiments are performed.\n",
    "In this case, QuCumber has a highly efficient parallelizable method to determine\n",
    "the most likely state consistent with the given measurements. As an example, we\n",
    "demonstrate how to train and sample a QuCumber RBM model with measurements from\n",
    "the one-dimensional transverse-field Ising model (TFIM).\n",
    "\n",
    "### Transverse field Ising model\n",
    "The Hamiltonian for the transverse-field Ising model (TFIM) is given\n",
    "by\n",
    "\\begin{equation}\n",
    "\t\\mathcal{H} = -J\\sum_i \\sigma^z_i \\sigma^z_{i+1} - h \\sum_i\n",
    "\\sigma^x_i\n",
    "\\end{equation}\n",
    "where $\\sigma^{\\alpha}_i$ is a spin-1/2\n",
    "Pauli operator on site $i$, with $\\alpha=x,y,z$. We consider the critical point\n",
    "where $J=h=1$, which is the most difficult state to reconstuct.\n",
    "\n",
    "For training\n",
    "data, we use a synthetic data set consisting of $N=10,000$ measurements in the\n",
    "$\\sigma^z$-basis for 10 spins, generated with standard numerical techniques. The\n",
    "example dataset is provided in tfim1d_train_samples.txt. As usual, spins are\n",
    "represented in binary notation with zeros denoting spin-down, and one denoting\n",
    "spin-up. \n",
    "\n",
    "##### Code \n",
    "To begin the tutorial, we first load the required Python\n",
    "packages with common abbreviations."
   ]
  },
  {
   "cell_type": "code",
   "execution_count": 1,
   "metadata": {
    "attributes": {
     "classes": [],
     "id": "",
     "n": "14"
    }
   },
   "outputs": [],
   "source": [
    "import numpy as np\n",
    "import torch\n",
    "import matplotlib.pyplot as plt\n",
    "\n",
    "from qucumber.nn_states import PositiveWavefunction\n",
    "from qucumber.callbacks import MetricEvaluator\n",
    "import qucumber.utils.training_statistics as ts\n",
    "import qucumber.utils.data as data\n",
    "\n",
    "import quantum_ising_chain\n",
    "from quantum_ising_chain import TFIMChainEnergy, TFIMChainMagnetization"
   ]
  },
  {
   "cell_type": "markdown",
   "metadata": {},
   "source": [
    "## Positive wave function object\n",
    "\n",
    "The central object of QuCumber is the representation of the wavefunction. In the case of a completely positive wavefunction, the representation is an RBM with binary visible and hidden units.\n",
    "This Python class *PositiveWavefunction* serves this purpose.\n",
    "To instanciate a positive wavefunction, one needs to specify the number of visible and hidden units in the RBM.\n",
    "The number of visible units (*num_visible*) is given by the size of the physical system, i.e., the number of spins or qubits.\n",
    "In contrast, the number of hidden units (*num_hidden*) can be varied to change the expressiveness of the neural network.\n",
    "Errors in the representation can be systematically improved by increasing the number of hidden units and consequently\n",
    "the number of parameters (weights and biases) in the network.\n",
    "The quality of the reconstruction will depend on the specific wavefunction and the ratio $\\alpha = $*num_hidden*/*num_visible*.\n",
    "Typically, in our studies $\\alpha = 1$ leads to good approximations of positive real wavefunctions.\n",
    "In the general case, however, the value of $\\alpha$ required for a given wavefunction reconstruction should be explored and adjusted by the user.\n",
    "\n",
    "#### Code\n",
    "The following code snippet instantiates a *PositiveWavefunction* object with 10 visible units and 10 hidden units.\n",
    "The biases are initialized to zero, and the weights are initialized randomly according to a normal distribution with zero mean and a variance of *nm_visible*$^{(-1)}$.\n",
    "\n",
    "One may also choose to run this tutorial on a GPU by\n",
    "adding in \"gpu = True\" as an argument to **PositiveWavefunction**."
   ]
  },
  {
   "cell_type": "code",
   "execution_count": 2,
   "metadata": {
    "attributes": {
     "classes": [],
     "id": "",
     "n": "2"
    }
   },
   "outputs": [],
   "source": [
    "nn_state = PositiveWavefunction(num_visible=10, num_hidden=10)"
   ]
  },
  {
   "cell_type": "markdown",
   "metadata": {},
   "source": [
    "### Training Data \n",
    "To begin with wavefunction reconstruction, the input data needs to be in a numpy array or a torch tensor.\n",
    "For a spin system with 10 physical spins and measurements of every spin, one input data point will be an array of the form\n",
    "np.array([1,0,1,1,0,1,0,0,0,1])\n",
    ", with shape (10,).\n",
    "All the input data together has to be an array of these arrays, which will have the shape (N,10), where $N$ is the number of data elements in the training set.\n",
    "\n",
    "For the purpose of this tutorial, we will also compare the state reconstruction from QuCumber with the exact ground state.\n",
    "This is also provided in tfim1d_psi.txt."
   ]
  },
  {
   "cell_type": "code",
   "execution_count": 3,
   "metadata": {
    "attributes": {
     "classes": [],
     "id": "",
     "n": "2"
    }
   },
   "outputs": [],
   "source": [
    "psi_path = 'tfim1d_psi.txt'\n",
    "train_path = 'tfim1d_train_samples.txt'\n",
    "\n",
    "train, psi = data.load_data(train_path, psi_path)"
   ]
  },
  {
   "cell_type": "markdown",
   "metadata": {},
   "source": [
    "The neural network wavefunction object can be trained with the constrastive divergence algorithm using various optimizers (see https://pytorch.org/docs/stable/optim.html).\n",
    "This is implemented with the function *PositiveWavefunction.fit*, which takes a number of hyperparameters.\n",
    "The choice of hyperparameters depends on the complexity of the system and also the training set size.\n",
    "In this example, we take a learning rate of $10^{-3}$ using stochastic (batch) gradient descent with a batch size of 100 for both the positive and negative phase, trained for 1,000 epochs.\n",
    "The number of Gibbs sampling steps, *k*, which dictates the number of steps in the contrastive divergence algorithm.\n",
    "impacts the training time. The smaller we choose $k$, the faster is the training. High values on the other hand give a better approximation for the model distribution. It has been shown that even for $k=1$ the RBM trains well for many typical cases.\n",
    "\n",
    "#### Code\n",
    "\n",
    "The success of training can be tracked by different measures, like the convergence of the energy or other observables.\n",
    "To monitor the fidelity with a target state *psi*, we use the *callbacks* module class which computes desired quantities every $n$ epochs.\n",
    "We set $n=50$ in this example.\n",
    "\n",
    "It should be stressed that this is only possible for small systems where it is possible to compute the partition function exactly."
   ]
  },
  {
   "cell_type": "code",
   "execution_count": 4,
   "metadata": {
    "attributes": {
     "classes": [],
     "id": "",
     "n": "2"
    }
   },
   "outputs": [
    {
     "name": "stdout",
     "output_type": "stream",
     "text": [
      "Epoch: 50\tFidelity = 0.495823\tKL = 1.455378\n",
      "Epoch: 100\tFidelity = 0.539375\tKL = 1.232022\n",
      "Epoch: 150\tFidelity = 0.588306\tKL = 1.022450\n",
      "Epoch: 200\tFidelity = 0.642242\tKL = 0.833310\n",
      "Epoch: 250\tFidelity = 0.695375\tKL = 0.676264\n",
      "Epoch: 300\tFidelity = 0.740429\tKL = 0.563271\n",
      "Epoch: 350\tFidelity = 0.771898\tKL = 0.490886\n",
      "Epoch: 400\tFidelity = 0.794652\tKL = 0.440392\n",
      "Epoch: 450\tFidelity = 0.812611\tKL = 0.398925\n",
      "Epoch: 500\tFidelity = 0.828115\tKL = 0.361373\n",
      "Epoch: 550\tFidelity = 0.843248\tKL = 0.325384\n",
      "Epoch: 600\tFidelity = 0.857204\tKL = 0.293229\n",
      "Epoch: 650\tFidelity = 0.869414\tKL = 0.265951\n",
      "Epoch: 700\tFidelity = 0.880052\tKL = 0.243142\n",
      "Epoch: 750\tFidelity = 0.889461\tKL = 0.223803\n",
      "Epoch: 800\tFidelity = 0.897149\tKL = 0.207974\n",
      "Epoch: 850\tFidelity = 0.903738\tKL = 0.194540\n",
      "Epoch: 900\tFidelity = 0.909456\tKL = 0.182902\n",
      "Epoch: 950\tFidelity = 0.915025\tKL = 0.171989\n",
      "Epoch: 1000\tFidelity = 0.919433\tKL = 0.162914\n"
     ]
    }
   ],
   "source": [
    "nn_state.space = nn_state.generate_hilbert_space(10)\n",
    "callbacks = [MetricEvaluator(50, {'Fidelity':ts.fidelity,'KL':ts.KL}, target_psi=psi,verbose=True, space=nn_state.space)]\n",
    "nn_state.fit(train, epochs=1000, pos_batch_size=100, neg_batch_size=100, lr=1e-3, k=5, callbacks=callbacks)"
   ]
  },
  {
   "cell_type": "markdown",
   "metadata": {},
   "source": [
    "## After Training \n",
    "\n",
    "After training the RBM, the *fit* function will have stored\n",
    "the trained weights and biases. We can now generate samples from the trained\n",
    "RBM and calculate physical observables.\n",
    "\n",
    "#### Magnetization\n",
    "The simplest observable to compute is the magnetization. We can do so directly from samples of the RBM. Note that we set ignore the first 1000 samples to avoid errors. This is analgous to the warmup or burn-in time in Monte Carlo simulations. "
   ]
  },
  {
   "cell_type": "code",
   "execution_count": 5,
   "metadata": {
    "attributes": {
     "classes": [],
     "id": "",
     "n": "2"
    }
   },
   "outputs": [
    {
     "name": "stdout",
     "output_type": "stream",
     "text": [
      "Magnetization is :  0.5009333333333333\n"
     ]
    }
   ],
   "source": [
    "samples = nn_state.sample(num_samples=10000, k=200)\n",
    "magnetization = samples[1000:].mean()\n",
    "print(\"Magnetization is : \", magnetization.item())"
   ]
  },
  {
   "cell_type": "markdown",
   "metadata": {},
   "source": [
    "#### Energy \n",
    "\n",
    "In general, the observable cannot be computer directly form samples but instead depends on the details of the RBM. For this purpose, we created an example *observables* module to compute any arbitrary observable from the RBM. An example for the energy and magnetization is provided in an example python file\n",
    "called *quantum_ising_chain.py*. \n",
    "\n",
    "*quantum_ising_chain* comprises of two classes: one to calculate the\n",
    "energy of a TFIM (**TFIMChainEnergy**) and one to calculate the magnetization of\n",
    "a TFIM (**TFIMChainMagnetization**). The following arguments are required to\n",
    " instantiate those objects.\n",
    "\n",
    "1. h : This is the h/J value of the TFIM (1 in\n",
    "the case of our dataset). This is only needed in **TFIMChainEnergy**.\n",
    "2. num_samples: The number of samples to be generated from the trained RBM. These\n",
    "samples will be used to calculate the observables."
   ]
  },
  {
   "cell_type": "code",
   "execution_count": 6,
   "metadata": {
    "attributes": {
     "classes": [],
     "id": "",
     "n": "6"
    }
   },
   "outputs": [],
   "source": [
    "h = 1\n",
    "num_samples = 10000\n",
    "\n",
    "tfim_energy = TFIMChainEnergy(h, num_samples)\n",
    "tfim_mag = TFIMChainMagnetization(num_samples)"
   ]
  },
  {
   "cell_type": "markdown",
   "metadata": {},
   "source": [
    "As stated previously, the **TFIMChainEnergy** and **TFIMChainMagnetization**\n",
    "classes inherit properties from **Observables**. To go ahead and calculate the\n",
    "energy and magnetization along with their respective standard errors, we call\n",
    "the *statistics* function in **Observables**, which requires the neural network\n",
    "state (in this case, **PositiveWavefunction**) and the number of samples that\n",
    "are to be generated."
   ]
  },
  {
   "cell_type": "code",
   "execution_count": 7,
   "metadata": {
    "attributes": {
     "classes": [],
     "id": "",
     "n": "7"
    }
   },
   "outputs": [
    {
     "name": "stdout",
     "output_type": "stream",
     "text": [
      "Mean energy:  -1.196560  +/- 0.001552\n",
      "Mean magnetization: 0.532600  +/- 0.002943\n"
     ]
    }
   ],
   "source": [
    "energy_stats = tfim_energy.statistics(nn_state, num_samples)\n",
    "mag_stats     = tfim_mag.statistics(nn_state, num_samples)\n",
    "\n",
    "print('Mean energy:  %.6f' % energy_stats['mean'], ' +/- %.6f' % energy_stats['std_error'])\n",
    "print('Mean magnetization: %.6f' % mag_stats['mean'], ' +/- %.6f' % mag_stats['std_error'])"
   ]
  },
  {
   "cell_type": "markdown",
   "metadata": {},
   "source": [
    "The exact value for the energy is -1.2381, and for the magnetization is 0.5610.\n",
    "To see the how quickly the energy and magnetization converge as a function of\n",
    "the sampling step, *n_eq*, the code below will do the trick."
   ]
  },
  {
   "cell_type": "code",
   "execution_count": 8,
   "metadata": {
    "attributes": {
     "classes": [],
     "id": "",
     "n": "8"
    }
   },
   "outputs": [],
   "source": [
    "n_eq = 200\n",
    "dict_observables = quantum_ising_chain.Convergence(nn_state, tfim_energy, tfim_mag, num_samples, n_eq)\n",
    "\n",
    "energy     = dict_observables['energy']['energies']\n",
    "err_energy = dict_observables['energy']['error']\n",
    "\n",
    "mag     = dict_observables['sigmaZ']['sZ']\n",
    "err_mag = dict_observables['sigmaZ']['error']\n",
    "\n",
    "step = np.arange(n_eq + 1)"
   ]
  },
  {
   "cell_type": "code",
   "execution_count": 12,
   "metadata": {
    "attributes": {
     "classes": [],
     "id": "",
     "n": "8"
    }
   },
   "outputs": [
    {
     "data": {
      "text/plain": [
       "Text(0,0.5,'Magnetization')"
      ]
     },
     "execution_count": 12,
     "metadata": {},
     "output_type": "execute_result"
    },
    {
     "data": {
      "image/png": "[encoded data removed]",
      "text/plain": [
       "<Figure size 432x288 with 1 Axes>"
      ]
     },
     "metadata": {},
     "output_type": "display_data"
    },
    {
     "data": {
      "image/png": "[encoded data removed]",
      "text/plain": [
       "<Figure size 432x288 with 1 Axes>"
      ]
     },
     "metadata": {},
     "output_type": "display_data"
    }
   ],
   "source": [
    "E0 = -1.2381\n",
    "M0 = 0.561\n",
    "\n",
    "plt.clf()\n",
    "\n",
    "plt.figure(1)\n",
    "ax1 = plt.axes()\n",
    "ax1.plot(step, energy, color=\"blue\", linewidth=1)\n",
    "ax1.axhline(E0, color=\"black\")\n",
    "ax1.fill_between(step, energy-err_energy, energy+err_energy, alpha=0.2)\n",
    "ax1.set_xlim(0, n_eq)\n",
    "ax1.set_ylim(E0-0.1, E0+0.1)\n",
    "ax1.set_xlabel(\"n_eq\")\n",
    "ax1.set_ylabel(\"Energy\")\n",
    "\n",
    "plt.figure(2)\n",
    "ax2 = plt.axes()\n",
    "ax2.plot(step, mag, linewidth=1, color=\"blue\")\n",
    "ax2.axhline(M0, color=\"black\")\n",
    "ax2.fill_between(step, mag-err_mag, mag+err_mag, alpha=0.2)\n",
    "ax2.set_xlim(0, n_eq)\n",
    "ax2.set_ylim(M0-0.05, M0+0.05)\n",
    "ax2.set_xlabel(\"n_eq\")\n",
    "ax2.set_ylabel(\"Magnetization\")"
   ]
  },
  {
   "cell_type": "markdown",
   "metadata": {},
   "source": [
    "You can see a brief transient period in each observable, before the state of the\n",
    "machine \"warms up\" to equilibrium.  After that, the values fluctuate around the\n",
    "calculated mean."
   ]
  },
  {
   "cell_type": "code",
   "execution_count": 10,
   "metadata": {},
   "outputs": [
    {
     "data": {
      "text/plain": [
       "array([-1.12416509, -1.17880045, -1.18887077, -1.19282567, -1.19340256,\n",
       "       -1.19242595, -1.19354147, -1.19173417, -1.19541604, -1.1935885 ,\n",
       "       -1.18850085, -1.19519305, -1.1944051 , -1.19267078, -1.19467996,\n",
       "       -1.19467881, -1.19409183, -1.19636907, -1.1935958 , -1.19358758,\n",
       "       -1.19458428, -1.19322943, -1.19730289, -1.19321544, -1.19488986,\n",
       "       -1.19849804, -1.19378967, -1.19271415, -1.19284247, -1.19314899,\n",
       "       -1.19376421, -1.19448366, -1.19714979, -1.19370437, -1.19623687,\n",
       "       -1.19496551, -1.19308774, -1.19453613, -1.1944125 , -1.19295197,\n",
       "       -1.19778273, -1.19759769, -1.19814927, -1.19442847, -1.19427495,\n",
       "       -1.1948162 , -1.19310747, -1.19491262, -1.19718867, -1.19310364,\n",
       "       -1.19441196, -1.19697304, -1.19476187, -1.19518999, -1.19259241,\n",
       "       -1.19401272, -1.19541388, -1.19207559, -1.1941731 , -1.19433304,\n",
       "       -1.19312   , -1.19391334, -1.19503654, -1.19345248, -1.19409098,\n",
       "       -1.1949195 , -1.1976875 , -1.19627068, -1.19526627, -1.19606279,\n",
       "       -1.19565825, -1.19402994, -1.19633902, -1.19533189, -1.19546441,\n",
       "       -1.19557011, -1.19363079, -1.19375684, -1.19383953, -1.19623754,\n",
       "       -1.19226565, -1.195222  , -1.19423086, -1.19417834, -1.19498522,\n",
       "       -1.19276253, -1.19223015, -1.19568717, -1.19510184, -1.19405405,\n",
       "       -1.19504181, -1.19637588, -1.1924517 , -1.19566582, -1.19582135,\n",
       "       -1.1943409 , -1.1928776 , -1.19539698, -1.19495274, -1.19541714,\n",
       "       -1.19522247, -1.19386429, -1.19368382, -1.19058924, -1.19579337,\n",
       "       -1.19554688, -1.19198827, -1.19398426, -1.19449642, -1.19387668,\n",
       "       -1.19398743, -1.19602751, -1.19410296, -1.19405025, -1.19398055,\n",
       "       -1.19402947, -1.19294819, -1.19308624, -1.19649521, -1.19759205,\n",
       "       -1.19437088, -1.19383318, -1.19511705, -1.19422905, -1.19564272,\n",
       "       -1.19611974, -1.19330368, -1.19589279, -1.19528357, -1.19466493,\n",
       "       -1.19801445, -1.19522944, -1.19750775, -1.19470134, -1.19227516,\n",
       "       -1.19351772, -1.1942966 , -1.19333576, -1.19451664, -1.19414372,\n",
       "       -1.19441545, -1.19242536, -1.19473786, -1.19203279, -1.19305063,\n",
       "       -1.19517153, -1.19219994, -1.1960041 , -1.19669128, -1.1932242 ,\n",
       "       -1.19454659, -1.19696381, -1.19714315, -1.19410014, -1.19476323,\n",
       "       -1.19550177, -1.19341107, -1.19620188, -1.19658992, -1.19867968,\n",
       "       -1.19460684, -1.19672886, -1.19551141, -1.19477963, -1.19510836,\n",
       "       -1.19730582, -1.19427527, -1.19293347, -1.19260414, -1.19792415,\n",
       "       -1.19561231, -1.19607554, -1.19625278, -1.19379272, -1.19407721,\n",
       "       -1.19357531, -1.19768699, -1.19609843, -1.19410737, -1.19463932,\n",
       "       -1.1962229 , -1.19691873, -1.19710671, -1.1954982 , -1.19422362,\n",
       "       -1.19507891, -1.19428975, -1.19329619, -1.19669874, -1.19197016,\n",
       "       -1.19483873, -1.1960829 , -1.19466323, -1.19412834, -1.19395749,\n",
       "       -1.19351006, -1.19415671, -1.19426516, -1.19748687, -1.1971754 ,\n",
       "       -1.19527381])"
      ]
     },
     "execution_count": 10,
     "metadata": {},
     "output_type": "execute_result"
    }
   ],
   "source": [
    "energy"
   ]
  },
  {
   "cell_type": "code",
   "execution_count": null,
   "metadata": {},
   "outputs": [],
   "source": []
  }
 ],
 "metadata": {
  "kernelspec": {
   "display_name": "Python 3",
   "language": "python",
   "name": "python3"
  },
  "language_info": {
   "codemirror_mode": {
    "name": "ipython",
    "version": 3
   },
   "file_extension": ".py",
   "mimetype": "text/x-python",
   "name": "python",
   "nbconvert_exporter": "python",
   "pygments_lexer": "ipython3",
   "version": "3.6.6"
  }
 },
 "nbformat": 4,
 "nbformat_minor": 2
}
