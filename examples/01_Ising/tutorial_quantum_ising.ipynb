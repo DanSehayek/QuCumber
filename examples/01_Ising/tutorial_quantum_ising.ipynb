{
 "cells": [
  {
   "cell_type": "markdown",
   "metadata": {},
   "source": [
    "# Part 1: Reconstruction of a positive wavefunction\n",
    "\n",
    "## Getting Started\n",
    "\n",
    "The following imports are needed to run this tutorial:"
   ]
  },
  {
   "cell_type": "code",
   "execution_count": 1,
   "metadata": {
    "scrolled": true
   },
   "outputs": [],
   "source": [
    "import torch\n",
    "import numpy as np\n",
    "import matplotlib.pyplot as plt\n",
    "\n",
    "from qucumber.nn_states import PositiveWavefunction\n",
    "\n",
    "from qucumber.callbacks import MetricEvaluator\n",
    "\n",
    "import qucumber.utils.training_statistics as ts\n",
    "import qucumber.utils.data as data\n",
    "\n",
    "import quantum_ising_chain\n",
    "from quantum_ising_chain import TFIMChainEnergy, TFIMChainMagnetization\n",
    "                                # for calculating observables after training. More later..."
   ]
  },
  {
   "cell_type": "markdown",
   "metadata": {},
   "source": [
    "Briefly, the *PositiveWavefunction* class inherits general properties of a wavefunction (e.g. the wavefunction's amplitude and sampling from the reconstructed wavefunction) from a super-class called *Wavefunction*. The actual RBM training algorithm is also located in the *Wavefunction* super-class. \n",
    " \n",
    "*callbacks* contains functions that allow the user to evaluate the quality of the training (i.e. based on the fidelity or KL divergence). *training_statistics* contains the utilities in order to calculate these training evaluators.\n",
    "\n",
    "*data* contains functions that handle loading the training data.\n",
    "\n",
    "*quantum_ising_chain* is not a part of QuCumber; it comprises of classes and functions that will calculate the energy and magnetization of a transverse-field Ising model (TFIM). *quantum_ising_chain* inherits properties from the *Observables* class (part of QuCumber - see observables.py). We encourage users to follow a similar structure to *quantum_ising_chain* when calculating observables for other systems (i.e. not a TFIM).\n",
    "\n",
    "## Training\n",
    "\n",
    "Let's beging with training the RBM on a positive wavefunction. We consider the quantum Ising model with the Hamiltonian $H=-J\\sum_{\\langle i j \\rangle} S^z_i S^z_j - h \\sum_i S^x_i$\n",
    "at its quantum critical point $h/J=1$.  The training data has been generated and is contained in the file *tfim1d_N10_train_samples.txt*.  It contains 10,000 measurements of the $S^z$ states of 10 qubits, represented as zeros or ones.\n",
    "\n",
    "To evaluate how well the RBM is training, we compute the fidelity, $|\\langle \\psi|\\psi_{\\rm RBM} \\rangle|^2$, between the true wavefunction of the system and the wavefunction the RBM reconstructs. First, we need to load our training data and the true wavefunction of this system."
   ]
  },
  {
   "cell_type": "code",
   "execution_count": 2,
   "metadata": {},
   "outputs": [],
   "source": [
    "train_samples_path = 'tfim1d_train_samples.txt'\n",
    "psi_path           = 'tfim1d_psi.txt'\n",
    "\n",
    "train_samples,target_psi = data.load_data(train_samples_path,psi_path)"
   ]
  },
  {
   "cell_type": "markdown",
   "metadata": {},
   "source": [
    "The following arguments are required to construct a **PositiveWavefunction** neural network state:\n",
    "\n",
    "1. **The number of visible units**. This is 10 for the case of our dataset.\n",
    "2. **The number of hidden units in the hidden layer of the RBM**. This number is set to the number of visible units by default (10 in the case of our dataset).\n",
    "\n",
    "One may also choose to run this tutorial on a GPU by adding in \"gpu = True\" as an argument to **PositiveWavefunction**."
   ]
  },
  {
   "cell_type": "code",
   "execution_count": 3,
   "metadata": {},
   "outputs": [],
   "source": [
    "nv = train_samples.shape[-1]\n",
    "nh = nv\n",
    "\n",
    "nn_state = PositiveWavefunction(num_visible=nv,num_hidden=nh,gpu=False)"
   ]
  },
  {
   "cell_type": "markdown",
   "metadata": {},
   "source": [
    "Now we can specify the parameters of the training process:\n",
    "\n",
    "1. **epochs**: the number of epochs, i.e. training cycles that will be performed.\n",
    "2. **batch_size**: the number of data points used in the positive phase of the gradient.\n",
    "3. **num_chains**: the number of data points used in the negative phase of the gradient. Keeping this larger than the *batch_size* is preferred.\n",
    "4. **CD**: the number of contrastive divergence steps.\n",
    "5. **lr**: the learning rate.\n",
    "6. **log_every**: how often you would like the program to update you during the training; say we choose 50 - that is, every 50 epochs the program will print out the fidelity. This parameter is required in the *MetricEvaluator*."
   ]
  },
  {
   "cell_type": "code",
   "execution_count": 4,
   "metadata": {},
   "outputs": [],
   "source": [
    "epochs     = 1500\n",
    "batch_size = 100\n",
    "num_chains = 200\n",
    "CD         = 10\n",
    "lr         = 0.01\n",
    "log_every  = 100"
   ]
  },
  {
   "cell_type": "markdown",
   "metadata": {},
   "source": [
    "Once we initialize the parameters of the **PositiveWavefunction** and the **MetricEvaluator**, we can begin training. Our **QuantumReconstruction** object, *qr* (see below), contains a function called *fit* that executes the training process."
   ]
  },
  {
   "cell_type": "code",
   "execution_count": 5,
   "metadata": {
    "scrolled": true
   },
   "outputs": [
    {
     "name": "stdout",
     "output_type": "stream",
     "text": [
      "Epoch: 100\tFidelity = 0.926607\tKL = 0.149077\n",
      "Epoch: 200\tFidelity = 0.965354\tKL = 0.069365\n",
      "Epoch: 300\tFidelity = 0.978126\tKL = 0.043651\n",
      "Epoch: 400\tFidelity = 0.985084\tKL = 0.029841\n",
      "Epoch: 500\tFidelity = 0.987327\tKL = 0.025613\n",
      "Epoch: 600\tFidelity = 0.989246\tKL = 0.021680\n",
      "Epoch: 700\tFidelity = 0.990066\tKL = 0.019985\n",
      "Epoch: 800\tFidelity = 0.991908\tKL = 0.016218\n",
      "Epoch: 900\tFidelity = 0.993315\tKL = 0.013379\n",
      "Epoch: 1000\tFidelity = 0.994196\tKL = 0.011603\n",
      "Epoch: 1100\tFidelity = 0.994884\tKL = 0.010211\n",
      "Epoch: 1200\tFidelity = 0.995652\tKL = 0.008670\n",
      "Epoch: 1300\tFidelity = 0.996036\tKL = 0.007937\n",
      "Epoch: 1400\tFidelity = 0.996104\tKL = 0.007823\n",
      "Epoch: 1500\tFidelity = 0.996691\tKL = 0.006635\n"
     ]
    }
   ],
   "source": [
    "nn_state.space = nn_state.generate_hilbert_space(nv)\n",
    "\n",
    "callbacks = [MetricEvaluator(log_every,{'Fidelity':ts.fidelity,'KL':ts.KL},target_psi=target_psi,verbose=True, \n",
    "                             space=nn_state.space)]\n",
    "# The \"verbose=True\" argument will print the parameters in { } as a function of the training process.\n",
    "\n",
    "nn_state.fit(train_samples, epochs, batch_size, num_chains, CD, lr, progbar=False, callbacks=callbacks)"
   ]
  },
  {
   "cell_type": "markdown",
   "metadata": {},
   "source": [
    "## After Training \n",
    "\n",
    "After training the RBM, the *fit* function will have stored the trained weights and biases. Now, we can generate samples from the trained RBM and calculate physical observables.\n",
    "\n",
    "We have created an example python file called *quantum_ising_chain.py* that calculates the energy and magnetization of a TFIM.\n",
    "\n",
    "*quantum_ising_chain* comprises of two classes: one to calculate the energy of a TFIM (**TFIMChainEnergy**) and one to calculate the magnetization of a TFIM (**TFIMChainMagnetization**). The following arguments are required to instatiate those objects.\n",
    "\n",
    "1. **h**: This is the *h/J* value of the TFIM (1 in the case of our dataset). This is only needed in **TFIMChainEnergy**.\n",
    "2. **n_samples**: The number of samples to be generated from the trained RBM. These samples will be used to calculate the observables."
   ]
  },
  {
   "cell_type": "code",
   "execution_count": 6,
   "metadata": {},
   "outputs": [],
   "source": [
    "h         = 1\n",
    "n_samples = 10000\n",
    "\n",
    "tfim_energy = TFIMChainEnergy(h, n_samples)\n",
    "tfim_sZ     = TFIMChainMagnetization(n_samples)"
   ]
  },
  {
   "cell_type": "markdown",
   "metadata": {},
   "source": [
    "As stated previously, the **TFIMChainEnergy** and **TFIMChainMagnetization** classes inherit properties from **Observables**. To go ahead and calculate the energy and magnetization along with their respective standard errors, we call the *statistics* function in **Observables**, which requires the neural network state (in this case, **PositiveWavefunction**) and the number of samples that are to be generated. "
   ]
  },
  {
   "cell_type": "code",
   "execution_count": 7,
   "metadata": {},
   "outputs": [
    {
     "name": "stdout",
     "output_type": "stream",
     "text": [
      "Mean energy:  -1.236067  +/- 0.000378\n",
      "Mean magnetization: 0.555480  +/- 0.003130\n"
     ]
    }
   ],
   "source": [
    "energy_stats = tfim_energy.statistics(nn_state, n_samples)\n",
    "sZ_stats     = tfim_sZ.statistics(nn_state, n_samples)\n",
    "\n",
    "print('Mean energy:  %.6f' % energy_stats['mean'], ' +/- %.6f' % energy_stats['std_error'])\n",
    "print('Mean magnetization: %.6f' % sZ_stats['mean'], ' +/- %.6f' % sZ_stats['std_error'])"
   ]
  },
  {
   "cell_type": "markdown",
   "metadata": {},
   "source": [
    "The exact value for the energy is -1.2381, and for the magnetization is 0.5610. To see the how quickly the energy and magnetization converge as a function of the sampling step, *n_eq*, the code below will do the trick."
   ]
  },
  {
   "cell_type": "code",
   "execution_count": 8,
   "metadata": {},
   "outputs": [
    {
     "data": {
      "text/plain": [
       "Text(0,0.5,'Magnetization')"
      ]
     },
     "execution_count": 8,
     "metadata": {},
     "output_type": "execute_result"
    },
    {
     "data": {
      "image/png": "[encoded data removed]",
      "text/plain": [
       "<Figure size 432x288 with 1 Axes>"
      ]
     },
     "metadata": {},
     "output_type": "display_data"
    },
    {
     "data": {
      "image/png": "[encoded data removed]",
      "text/plain": [
       "<Figure size 432x288 with 1 Axes>"
      ]
     },
     "metadata": {},
     "output_type": "display_data"
    }
   ],
   "source": [
    "n_eq = 200\n",
    "dict_observables = quantum_ising_chain.Convergence(nn_state, tfim_energy, tfim_sZ, n_samples, n_eq)\n",
    "\n",
    "energy     = dict_observables['energy']['energies']\n",
    "err_energy = dict_observables['energy']['error']\n",
    "\n",
    "sZ     = dict_observables['sigmaZ']['sZ']\n",
    "err_sZ = dict_observables['sigmaZ']['error']\n",
    "\n",
    "step = list(range(n_eq+1))\n",
    "\n",
    "plt.figure(1)\n",
    "ax1 = plt.axes()\n",
    "ax1.plot(step, energy, color='red')\n",
    "ax1.axhline(-1.2381, color='black')\n",
    "ax1.fill_between(step, energy-err_energy, energy+err_energy, color='red', alpha=0.4) \n",
    "ax1.grid()\n",
    "ax1.set_xlim(0,n_eq)\n",
    "ax1.set_ylim(-1.26,-1.22)\n",
    "ax1.set_xlabel('CD Step')\n",
    "ax1.set_ylabel('Energy')\n",
    "\n",
    "plt.figure(2)\n",
    "ax2 = plt.axes()\n",
    "ax2.plot(step, sZ, color='red')\n",
    "ax2.axhline(0.5610, color='black')\n",
    "ax2.fill_between(step, sZ-err_sZ, sZ+err_sZ, color='red', alpha=0.4) \n",
    "ax2.grid()\n",
    "ax2.set_xlim(0,n_eq)\n",
    "ax2.set_xlabel('CD Step')\n",
    "ax2.set_ylabel('Magnetization')"
   ]
  },
  {
   "cell_type": "markdown",
   "metadata": {},
   "source": [
    "You can see a brief transient period in each observable, before the state of the machine \"warms up\" to equilibrium.  After that, the values fluctuate around the calculated mean."
   ]
  }
 ],
 "metadata": {
  "kernelspec": {
   "display_name": "Python 3",
   "language": "python",
   "name": "python3"
  },
  "language_info": {
   "codemirror_mode": {
    "name": "ipython",
    "version": 3
   },
   "file_extension": ".py",
   "mimetype": "text/x-python",
   "name": "python",
   "nbconvert_exporter": "python",
   "pygments_lexer": "ipython3",
   "version": "3.6.5"
  }
 },
 "nbformat": 4,
 "nbformat_minor": 2
}
